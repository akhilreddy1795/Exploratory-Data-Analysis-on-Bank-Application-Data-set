{
 "cells": [
  {
   "cell_type": "code",
   "execution_count": 4,
   "metadata": {},
   "outputs": [],
   "source": [
    "import warnings\n",
    "warnings.filterwarnings('ignore')"
   ]
  },
  {
   "cell_type": "code",
   "execution_count": 5,
   "metadata": {},
   "outputs": [],
   "source": [
    "import pandas as pd\n",
    "import numpy as np\n",
    "import matplotlib.pyplot as plt, seaborn as sns"
   ]
  },
  {
   "cell_type": "markdown",
   "metadata": {},
   "source": [
    "# loading previous_application data set and naming to 'df0'"
   ]
  },
  {
   "cell_type": "code",
   "execution_count": 162,
   "metadata": {},
   "outputs": [],
   "source": [
    "df0 = pd.read_csv('previous_application.csv')"
   ]
  },
  {
   "cell_type": "code",
   "execution_count": 163,
   "metadata": {},
   "outputs": [
    {
     "data": {
      "text/plain": [
       "(1670214, 37)"
      ]
     },
     "execution_count": 163,
     "metadata": {},
     "output_type": "execute_result"
    }
   ],
   "source": [
    "df0.shape"
   ]
  },
  {
   "cell_type": "markdown",
   "metadata": {},
   "source": [
    "# loading application_data set and naming to 'df1'"
   ]
  },
  {
   "cell_type": "code",
   "execution_count": 164,
   "metadata": {},
   "outputs": [],
   "source": [
    "df1 = pd.read_csv('application_data.csv')"
   ]
  },
  {
   "cell_type": "code",
   "execution_count": 165,
   "metadata": {},
   "outputs": [
    {
     "data": {
      "text/plain": [
       "(307511, 122)"
      ]
     },
     "execution_count": 165,
     "metadata": {},
     "output_type": "execute_result"
    }
   ],
   "source": [
    "df1.shape"
   ]
  },
  {
   "cell_type": "code",
   "execution_count": 166,
   "metadata": {
    "collapsed": true
   },
   "outputs": [
    {
     "data": {
      "text/plain": [
       "SK_ID_CURR                        0\n",
       "TARGET                            0\n",
       "NAME_CONTRACT_TYPE                0\n",
       "CODE_GENDER                       0\n",
       "FLAG_OWN_CAR                      0\n",
       "                              ...  \n",
       "AMT_REQ_CREDIT_BUREAU_DAY     41519\n",
       "AMT_REQ_CREDIT_BUREAU_WEEK    41519\n",
       "AMT_REQ_CREDIT_BUREAU_MON     41519\n",
       "AMT_REQ_CREDIT_BUREAU_QRT     41519\n",
       "AMT_REQ_CREDIT_BUREAU_YEAR    41519\n",
       "Length: 122, dtype: int64"
      ]
     },
     "execution_count": 166,
     "metadata": {},
     "output_type": "execute_result"
    }
   ],
   "source": [
    "#checking how many null variables are in total for df1\n",
    "df1.isnull().sum()"
   ]
  },
  {
   "cell_type": "markdown",
   "metadata": {},
   "source": [
    "### calculating the exact value for 30% missing values in the dataset"
   ]
  },
  {
   "cell_type": "code",
   "execution_count": 167,
   "metadata": {},
   "outputs": [
    {
     "data": {
      "text/plain": [
       "92253.3"
      ]
     },
     "execution_count": 167,
     "metadata": {},
     "output_type": "execute_result"
    }
   ],
   "source": [
    "float(307511*30.0/100.0)"
   ]
  },
  {
   "cell_type": "markdown",
   "metadata": {},
   "source": [
    "#### dropping the unwanted rows for analysis as its a huge data set have anlysed and came to a conclussion that these columns would might not be that much effective for analysis \n"
   ]
  },
  {
   "cell_type": "code",
   "execution_count": 168,
   "metadata": {},
   "outputs": [],
   "source": [
    "#dropping unwanted rows for the analysis\n",
    "df1 = df1.drop(['EXT_SOURCE_1','EXT_SOURCE_2','EXT_SOURCE_3','OWN_CAR_AGE','FLAG_MOBIL','FLAG_EMP_PHONE','FLAG_WORK_PHONE','FLAG_CONT_MOBILE','FLAG_PHONE','FLAG_EMAIL','FLAG_DOCUMENT_2','FLAG_DOCUMENT_3','FLAG_DOCUMENT_4','FLAG_DOCUMENT_5','FLAG_DOCUMENT_6','FLAG_DOCUMENT_7','FLAG_DOCUMENT_8','FLAG_DOCUMENT_9','FLAG_DOCUMENT_10','FLAG_DOCUMENT_11','FLAG_DOCUMENT_12','FLAG_DOCUMENT_13','FLAG_DOCUMENT_14','FLAG_DOCUMENT_15','FLAG_DOCUMENT_16','FLAG_DOCUMENT_17','FLAG_DOCUMENT_18','FLAG_DOCUMENT_19','FLAG_DOCUMENT_20','FLAG_DOCUMENT_21','AMT_REQ_CREDIT_BUREAU_HOUR','AMT_REQ_CREDIT_BUREAU_DAY','AMT_REQ_CREDIT_BUREAU_WEEK','AMT_REQ_CREDIT_BUREAU_MON','AMT_REQ_CREDIT_BUREAU_QRT','AMT_REQ_CREDIT_BUREAU_YEAR'],axis = 1)"
   ]
  },
  {
   "cell_type": "code",
   "execution_count": 169,
   "metadata": {},
   "outputs": [
    {
     "data": {
      "text/plain": [
       "(307511, 86)"
      ]
     },
     "execution_count": 169,
     "metadata": {},
     "output_type": "execute_result"
    }
   ],
   "source": [
    "df1.shape"
   ]
  },
  {
   "cell_type": "markdown",
   "metadata": {},
   "source": [
    "# dropping records having more than 30% missing values"
   ]
  },
  {
   "cell_type": "code",
   "execution_count": 170,
   "metadata": {},
   "outputs": [],
   "source": [
    "#dropping records having more than 30% missing values\n",
    "df1=df1.drop(['APARTMENTS_AVG','OCCUPATION_TYPE','BASEMENTAREA_AVG','YEARS_BEGINEXPLUATATION_AVG','YEARS_BUILD_AVG','COMMONAREA_AVG','ELEVATORS_AVG','ENTRANCES_AVG','FLOORSMAX_AVG','FLOORSMIN_AVG','LANDAREA_AVG','LIVINGAPARTMENTS_AVG','LIVINGAREA_AVG','NONLIVINGAPARTMENTS_AVG','NONLIVINGAREA_AVG','APARTMENTS_MODE','BASEMENTAREA_MODE','YEARS_BEGINEXPLUATATION_MODE','YEARS_BUILD_MODE','COMMONAREA_MODE','ELEVATORS_MODE','ENTRANCES_MODE','FLOORSMAX_MODE','FLOORSMIN_MODE','LANDAREA_MODE','LIVINGAPARTMENTS_MODE','LIVINGAREA_MODE','NONLIVINGAPARTMENTS_MODE','NONLIVINGAREA_MODE','APARTMENTS_MEDI','BASEMENTAREA_MEDI','YEARS_BEGINEXPLUATATION_MEDI','YEARS_BUILD_MEDI','COMMONAREA_MEDI','ELEVATORS_MEDI','ENTRANCES_MEDI','FLOORSMAX_MEDI','FLOORSMIN_MEDI','LANDAREA_MEDI','LIVINGAPARTMENTS_MEDI','LIVINGAREA_MEDI','NONLIVINGAPARTMENTS_MEDI','NONLIVINGAREA_MEDI','FONDKAPREMONT_MODE','HOUSETYPE_MODE','TOTALAREA_MODE','WALLSMATERIAL_MODE','EMERGENCYSTATE_MODE'],axis=1)"
   ]
  },
  {
   "cell_type": "code",
   "execution_count": 171,
   "metadata": {},
   "outputs": [
    {
     "data": {
      "text/plain": [
       "(307511, 38)"
      ]
     },
     "execution_count": 171,
     "metadata": {},
     "output_type": "execute_result"
    }
   ],
   "source": [
    "df1.shape"
   ]
  },
  {
   "cell_type": "code",
   "execution_count": 172,
   "metadata": {},
   "outputs": [],
   "source": [
    "df1=df1.drop(['WEEKDAY_APPR_PROCESS_START','HOUR_APPR_PROCESS_START','REGION_POPULATION_RELATIVE','DAYS_ID_PUBLISH'],axis=1)"
   ]
  },
  {
   "cell_type": "markdown",
   "metadata": {},
   "source": [
    "# missing value treatment for df1\n",
    "### For the rows with missing values are not greater than 3% dropping those records accordingly also we can replace the missing values with mode but i choose to drop as the % is very less."
   ]
  },
  {
   "cell_type": "code",
   "execution_count": 173,
   "metadata": {},
   "outputs": [],
   "source": [
    "#dropping the records having missing values\n",
    "df1 = df1[~(df1['AMT_ANNUITY'].isnull())]"
   ]
  },
  {
   "cell_type": "code",
   "execution_count": 174,
   "metadata": {},
   "outputs": [],
   "source": [
    "df1=df1[~(df1['AMT_GOODS_PRICE'].isnull())]"
   ]
  },
  {
   "cell_type": "code",
   "execution_count": 175,
   "metadata": {},
   "outputs": [],
   "source": [
    "df1=df1[~(df1['NAME_TYPE_SUITE'].isnull())]"
   ]
  },
  {
   "cell_type": "code",
   "execution_count": 176,
   "metadata": {},
   "outputs": [],
   "source": [
    "df1=df1[~(df1['DAYS_LAST_PHONE_CHANGE'].isnull())]"
   ]
  },
  {
   "cell_type": "code",
   "execution_count": 177,
   "metadata": {},
   "outputs": [],
   "source": [
    "df1=df1[~(df1['OBS_30_CNT_SOCIAL_CIRCLE'].isnull())]"
   ]
  },
  {
   "cell_type": "code",
   "execution_count": 178,
   "metadata": {
    "collapsed": true
   },
   "outputs": [
    {
     "data": {
      "text/plain": [
       "SK_ID_CURR                     0\n",
       "TARGET                         0\n",
       "NAME_CONTRACT_TYPE             0\n",
       "CODE_GENDER                    0\n",
       "FLAG_OWN_CAR                   0\n",
       "FLAG_OWN_REALTY                0\n",
       "CNT_CHILDREN                   0\n",
       "AMT_INCOME_TOTAL               0\n",
       "AMT_CREDIT                     0\n",
       "AMT_ANNUITY                    0\n",
       "AMT_GOODS_PRICE                0\n",
       "NAME_TYPE_SUITE                0\n",
       "NAME_INCOME_TYPE               0\n",
       "NAME_EDUCATION_TYPE            0\n",
       "NAME_FAMILY_STATUS             0\n",
       "NAME_HOUSING_TYPE              0\n",
       "DAYS_BIRTH                     0\n",
       "DAYS_EMPLOYED                  0\n",
       "DAYS_REGISTRATION              0\n",
       "CNT_FAM_MEMBERS                0\n",
       "REGION_RATING_CLIENT           0\n",
       "REGION_RATING_CLIENT_W_CITY    0\n",
       "REG_REGION_NOT_LIVE_REGION     0\n",
       "REG_REGION_NOT_WORK_REGION     0\n",
       "LIVE_REGION_NOT_WORK_REGION    0\n",
       "REG_CITY_NOT_LIVE_CITY         0\n",
       "REG_CITY_NOT_WORK_CITY         0\n",
       "LIVE_CITY_NOT_WORK_CITY        0\n",
       "ORGANIZATION_TYPE              0\n",
       "OBS_30_CNT_SOCIAL_CIRCLE       0\n",
       "DEF_30_CNT_SOCIAL_CIRCLE       0\n",
       "OBS_60_CNT_SOCIAL_CIRCLE       0\n",
       "DEF_60_CNT_SOCIAL_CIRCLE       0\n",
       "DAYS_LAST_PHONE_CHANGE         0\n",
       "dtype: int64"
      ]
     },
     "execution_count": 178,
     "metadata": {},
     "output_type": "execute_result"
    }
   ],
   "source": [
    "df1.isnull().sum()"
   ]
  },
  {
   "cell_type": "markdown",
   "metadata": {},
   "source": [
    "# making negative data in certain columns to absolute using abs() function\n",
    "#### as these records mights give us not accurate graphs as to avoid it making them all absolute "
   ]
  },
  {
   "cell_type": "code",
   "execution_count": 204,
   "metadata": {},
   "outputs": [],
   "source": [
    "df1.DAYS_BIRTH = df1.DAYS_BIRTH.abs()"
   ]
  },
  {
   "cell_type": "code",
   "execution_count": null,
   "metadata": {},
   "outputs": [],
   "source": [
    "df1 = df1.DAYS_BIRTH.abs()"
   ]
  },
  {
   "cell_type": "code",
   "execution_count": 207,
   "metadata": {},
   "outputs": [],
   "source": [
    "df1.DAYS_EMPLOYED = df1.DAYS_EMPLOYED.abs()\n",
    "df1.DAYS_REGISTRATION = df1.DAYS_REGISTRATION.abs()\n",
    "df1.DAYS_LAST_PHONE_CHANGE = df1.DAYS_LAST_PHONE_CHANGE.abs()"
   ]
  },
  {
   "cell_type": "code",
   "execution_count": 303,
   "metadata": {
    "scrolled": true
   },
   "outputs": [
    {
     "name": "stdout",
     "output_type": "stream",
     "text": [
      "<class 'pandas.core.frame.DataFrame'>\n",
      "Int64Index: 305185 entries, 0 to 307510\n",
      "Data columns (total 34 columns):\n",
      " #   Column                       Non-Null Count   Dtype  \n",
      "---  ------                       --------------   -----  \n",
      " 0   SK_ID_CURR                   305185 non-null  int64  \n",
      " 1   TARGET                       305185 non-null  int64  \n",
      " 2   NAME_CONTRACT_TYPE           305185 non-null  object \n",
      " 3   CODE_GENDER                  305185 non-null  object \n",
      " 4   FLAG_OWN_CAR                 305185 non-null  object \n",
      " 5   FLAG_OWN_REALTY              305185 non-null  object \n",
      " 6   CNT_CHILDREN                 305185 non-null  int64  \n",
      " 7   AMT_INCOME_TOTAL             305185 non-null  float64\n",
      " 8   AMT_CREDIT                   305185 non-null  float64\n",
      " 9   AMT_ANNUITY                  305185 non-null  float64\n",
      " 10  AMT_GOODS_PRICE              305185 non-null  float64\n",
      " 11  NAME_TYPE_SUITE              305185 non-null  object \n",
      " 12  NAME_INCOME_TYPE             305185 non-null  object \n",
      " 13  NAME_EDUCATION_TYPE          305185 non-null  object \n",
      " 14  NAME_FAMILY_STATUS           305185 non-null  object \n",
      " 15  NAME_HOUSING_TYPE            305185 non-null  object \n",
      " 16  DAYS_BIRTH                   305185 non-null  int64  \n",
      " 17  DAYS_EMPLOYED                305185 non-null  int64  \n",
      " 18  DAYS_REGISTRATION            305185 non-null  float64\n",
      " 19  CNT_FAM_MEMBERS              305185 non-null  float64\n",
      " 20  REGION_RATING_CLIENT         305185 non-null  int64  \n",
      " 21  REGION_RATING_CLIENT_W_CITY  305185 non-null  int64  \n",
      " 22  REG_REGION_NOT_LIVE_REGION   305185 non-null  int64  \n",
      " 23  REG_REGION_NOT_WORK_REGION   305185 non-null  int64  \n",
      " 24  LIVE_REGION_NOT_WORK_REGION  305185 non-null  int64  \n",
      " 25  REG_CITY_NOT_LIVE_CITY       305185 non-null  int64  \n",
      " 26  REG_CITY_NOT_WORK_CITY       305185 non-null  int64  \n",
      " 27  LIVE_CITY_NOT_WORK_CITY      305185 non-null  int64  \n",
      " 28  ORGANIZATION_TYPE            305185 non-null  object \n",
      " 29  OBS_30_CNT_SOCIAL_CIRCLE     305185 non-null  float64\n",
      " 30  DEF_30_CNT_SOCIAL_CIRCLE     305185 non-null  float64\n",
      " 31  OBS_60_CNT_SOCIAL_CIRCLE     305185 non-null  float64\n",
      " 32  DEF_60_CNT_SOCIAL_CIRCLE     305185 non-null  float64\n",
      " 33  DAYS_LAST_PHONE_CHANGE       305185 non-null  float64\n",
      "dtypes: float64(11), int64(13), object(10)\n",
      "memory usage: 81.5+ MB\n"
     ]
    }
   ],
   "source": [
    "df1.info()"
   ]
  },
  {
   "cell_type": "markdown",
   "metadata": {},
   "source": [
    "### rounding off the data columns representing Amount with in them and also type casting to int data type as this  provides the accurate information, were we dont need any precission for these columns any way."
   ]
  },
  {
   "cell_type": "code",
   "execution_count": null,
   "metadata": {},
   "outputs": [],
   "source": [
    "#type casting float varibales to int and also rounding off to 0 decimal as to make them int type"
   ]
  },
  {
   "cell_type": "code",
   "execution_count": 307,
   "metadata": {},
   "outputs": [],
   "source": [
    "df1.AMT_INCOME_TOTAL = df1.AMT_INCOME_TOTAL.round(0).astype(int)"
   ]
  },
  {
   "cell_type": "code",
   "execution_count": null,
   "metadata": {},
   "outputs": [],
   "source": []
  },
  {
   "cell_type": "code",
   "execution_count": 311,
   "metadata": {},
   "outputs": [],
   "source": [
    "df1.AMT_CREDIT = df1.AMT_CREDIT.round(0).astype(int)"
   ]
  },
  {
   "cell_type": "code",
   "execution_count": 309,
   "metadata": {},
   "outputs": [],
   "source": [
    "df1.AMT_ANNUITY = df1.AMT_ANNUITY.round(0).astype(int)"
   ]
  },
  {
   "cell_type": "code",
   "execution_count": 310,
   "metadata": {},
   "outputs": [],
   "source": [
    "df1.AMT_GOODS_PRICE = df1.AMT_GOODS_PRICE.round(0).astype(int)"
   ]
  },
  {
   "cell_type": "markdown",
   "metadata": {},
   "source": [
    "### as some columns are in float data type but should be in int dtype type casting them to int dtype"
   ]
  },
  {
   "cell_type": "code",
   "execution_count": 315,
   "metadata": {},
   "outputs": [],
   "source": [
    "df1.DAYS_REGISTRATION = df1.DAYS_REGISTRATION.astype(int)\n",
    "df1.CNT_FAM_MEMBERS = df1.CNT_FAM_MEMBERS.astype(int)\n",
    "df1.OBS_30_CNT_SOCIAL_CIRCLE = df1.OBS_30_CNT_SOCIAL_CIRCLE.astype(int)\n",
    "df1.DEF_30_CNT_SOCIAL_CIRCLE = df1.DEF_30_CNT_SOCIAL_CIRCLE.astype(int)\n",
    "df1.OBS_60_CNT_SOCIAL_CIRCLE = df1.OBS_60_CNT_SOCIAL_CIRCLE.astype(int)\n",
    "df1.DEF_60_CNT_SOCIAL_CIRCLE = df1.DEF_60_CNT_SOCIAL_CIRCLE.astype(int)\n",
    "df1.DAYS_LAST_PHONE_CHANGE = df1.DAYS_LAST_PHONE_CHANGE.astype(int)"
   ]
  },
  {
   "cell_type": "code",
   "execution_count": 316,
   "metadata": {
    "scrolled": true
   },
   "outputs": [
    {
     "name": "stdout",
     "output_type": "stream",
     "text": [
      "<class 'pandas.core.frame.DataFrame'>\n",
      "Int64Index: 305185 entries, 0 to 307510\n",
      "Data columns (total 34 columns):\n",
      " #   Column                       Non-Null Count   Dtype \n",
      "---  ------                       --------------   ----- \n",
      " 0   SK_ID_CURR                   305185 non-null  int64 \n",
      " 1   TARGET                       305185 non-null  int64 \n",
      " 2   NAME_CONTRACT_TYPE           305185 non-null  object\n",
      " 3   CODE_GENDER                  305185 non-null  object\n",
      " 4   FLAG_OWN_CAR                 305185 non-null  object\n",
      " 5   FLAG_OWN_REALTY              305185 non-null  object\n",
      " 6   CNT_CHILDREN                 305185 non-null  int64 \n",
      " 7   AMT_INCOME_TOTAL             305185 non-null  int32 \n",
      " 8   AMT_CREDIT                   305185 non-null  int32 \n",
      " 9   AMT_ANNUITY                  305185 non-null  int32 \n",
      " 10  AMT_GOODS_PRICE              305185 non-null  int32 \n",
      " 11  NAME_TYPE_SUITE              305185 non-null  object\n",
      " 12  NAME_INCOME_TYPE             305185 non-null  object\n",
      " 13  NAME_EDUCATION_TYPE          305185 non-null  object\n",
      " 14  NAME_FAMILY_STATUS           305185 non-null  object\n",
      " 15  NAME_HOUSING_TYPE            305185 non-null  object\n",
      " 16  DAYS_BIRTH                   305185 non-null  int64 \n",
      " 17  DAYS_EMPLOYED                305185 non-null  int64 \n",
      " 18  DAYS_REGISTRATION            305185 non-null  int32 \n",
      " 19  CNT_FAM_MEMBERS              305185 non-null  int32 \n",
      " 20  REGION_RATING_CLIENT         305185 non-null  int64 \n",
      " 21  REGION_RATING_CLIENT_W_CITY  305185 non-null  int64 \n",
      " 22  REG_REGION_NOT_LIVE_REGION   305185 non-null  int64 \n",
      " 23  REG_REGION_NOT_WORK_REGION   305185 non-null  int64 \n",
      " 24  LIVE_REGION_NOT_WORK_REGION  305185 non-null  int64 \n",
      " 25  REG_CITY_NOT_LIVE_CITY       305185 non-null  int64 \n",
      " 26  REG_CITY_NOT_WORK_CITY       305185 non-null  int64 \n",
      " 27  LIVE_CITY_NOT_WORK_CITY      305185 non-null  int64 \n",
      " 28  ORGANIZATION_TYPE            305185 non-null  object\n",
      " 29  OBS_30_CNT_SOCIAL_CIRCLE     305185 non-null  int32 \n",
      " 30  DEF_30_CNT_SOCIAL_CIRCLE     305185 non-null  int32 \n",
      " 31  OBS_60_CNT_SOCIAL_CIRCLE     305185 non-null  int32 \n",
      " 32  DEF_60_CNT_SOCIAL_CIRCLE     305185 non-null  int32 \n",
      " 33  DAYS_LAST_PHONE_CHANGE       305185 non-null  int32 \n",
      "dtypes: int32(11), int64(13), object(10)\n",
      "memory usage: 68.7+ MB\n"
     ]
    }
   ],
   "source": [
    "df1.info()"
   ]
  },
  {
   "cell_type": "markdown",
   "metadata": {},
   "source": [
    "# missing value treatment for df0"
   ]
  },
  {
   "cell_type": "code",
   "execution_count": 181,
   "metadata": {
    "collapsed": true
   },
   "outputs": [
    {
     "name": "stdout",
     "output_type": "stream",
     "text": [
      "<class 'pandas.core.frame.DataFrame'>\n",
      "RangeIndex: 1670214 entries, 0 to 1670213\n",
      "Data columns (total 37 columns):\n",
      " #   Column                       Non-Null Count    Dtype  \n",
      "---  ------                       --------------    -----  \n",
      " 0   SK_ID_PREV                   1670214 non-null  int64  \n",
      " 1   SK_ID_CURR                   1670214 non-null  int64  \n",
      " 2   NAME_CONTRACT_TYPE           1670214 non-null  object \n",
      " 3   AMT_ANNUITY                  1297979 non-null  float64\n",
      " 4   AMT_APPLICATION              1670214 non-null  float64\n",
      " 5   AMT_CREDIT                   1670213 non-null  float64\n",
      " 6   AMT_DOWN_PAYMENT             774370 non-null   float64\n",
      " 7   AMT_GOODS_PRICE              1284699 non-null  float64\n",
      " 8   WEEKDAY_APPR_PROCESS_START   1670214 non-null  object \n",
      " 9   HOUR_APPR_PROCESS_START      1670214 non-null  int64  \n",
      " 10  FLAG_LAST_APPL_PER_CONTRACT  1670214 non-null  object \n",
      " 11  NFLAG_LAST_APPL_IN_DAY       1670214 non-null  int64  \n",
      " 12  RATE_DOWN_PAYMENT            774370 non-null   float64\n",
      " 13  RATE_INTEREST_PRIMARY        5951 non-null     float64\n",
      " 14  RATE_INTEREST_PRIVILEGED     5951 non-null     float64\n",
      " 15  NAME_CASH_LOAN_PURPOSE       1670214 non-null  object \n",
      " 16  NAME_CONTRACT_STATUS         1670214 non-null  object \n",
      " 17  DAYS_DECISION                1670214 non-null  int64  \n",
      " 18  NAME_PAYMENT_TYPE            1670214 non-null  object \n",
      " 19  CODE_REJECT_REASON           1670214 non-null  object \n",
      " 20  NAME_TYPE_SUITE              849809 non-null   object \n",
      " 21  NAME_CLIENT_TYPE             1670214 non-null  object \n",
      " 22  NAME_GOODS_CATEGORY          1670214 non-null  object \n",
      " 23  NAME_PORTFOLIO               1670214 non-null  object \n",
      " 24  NAME_PRODUCT_TYPE            1670214 non-null  object \n",
      " 25  CHANNEL_TYPE                 1670214 non-null  object \n",
      " 26  SELLERPLACE_AREA             1670214 non-null  int64  \n",
      " 27  NAME_SELLER_INDUSTRY         1670214 non-null  object \n",
      " 28  CNT_PAYMENT                  1297984 non-null  float64\n",
      " 29  NAME_YIELD_GROUP             1670214 non-null  object \n",
      " 30  PRODUCT_COMBINATION          1669868 non-null  object \n",
      " 31  DAYS_FIRST_DRAWING           997149 non-null   float64\n",
      " 32  DAYS_FIRST_DUE               997149 non-null   float64\n",
      " 33  DAYS_LAST_DUE_1ST_VERSION    997149 non-null   float64\n",
      " 34  DAYS_LAST_DUE                997149 non-null   float64\n",
      " 35  DAYS_TERMINATION             997149 non-null   float64\n",
      " 36  NFLAG_INSURED_ON_APPROVAL    997149 non-null   float64\n",
      "dtypes: float64(15), int64(6), object(16)\n",
      "memory usage: 471.5+ MB\n"
     ]
    }
   ],
   "source": [
    "df0.info()"
   ]
  },
  {
   "cell_type": "code",
   "execution_count": 182,
   "metadata": {
    "collapsed": true
   },
   "outputs": [
    {
     "data": {
      "text/plain": [
       "SK_ID_PREV                           0\n",
       "SK_ID_CURR                           0\n",
       "NAME_CONTRACT_TYPE                   0\n",
       "AMT_ANNUITY                     372235\n",
       "AMT_APPLICATION                      0\n",
       "AMT_CREDIT                           1\n",
       "AMT_DOWN_PAYMENT                895844\n",
       "AMT_GOODS_PRICE                 385515\n",
       "WEEKDAY_APPR_PROCESS_START           0\n",
       "HOUR_APPR_PROCESS_START              0\n",
       "FLAG_LAST_APPL_PER_CONTRACT          0\n",
       "NFLAG_LAST_APPL_IN_DAY               0\n",
       "RATE_DOWN_PAYMENT               895844\n",
       "RATE_INTEREST_PRIMARY          1664263\n",
       "RATE_INTEREST_PRIVILEGED       1664263\n",
       "NAME_CASH_LOAN_PURPOSE               0\n",
       "NAME_CONTRACT_STATUS                 0\n",
       "DAYS_DECISION                        0\n",
       "NAME_PAYMENT_TYPE                    0\n",
       "CODE_REJECT_REASON                   0\n",
       "NAME_TYPE_SUITE                 820405\n",
       "NAME_CLIENT_TYPE                     0\n",
       "NAME_GOODS_CATEGORY                  0\n",
       "NAME_PORTFOLIO                       0\n",
       "NAME_PRODUCT_TYPE                    0\n",
       "CHANNEL_TYPE                         0\n",
       "SELLERPLACE_AREA                     0\n",
       "NAME_SELLER_INDUSTRY                 0\n",
       "CNT_PAYMENT                     372230\n",
       "NAME_YIELD_GROUP                     0\n",
       "PRODUCT_COMBINATION                346\n",
       "DAYS_FIRST_DRAWING              673065\n",
       "DAYS_FIRST_DUE                  673065\n",
       "DAYS_LAST_DUE_1ST_VERSION       673065\n",
       "DAYS_LAST_DUE                   673065\n",
       "DAYS_TERMINATION                673065\n",
       "NFLAG_INSURED_ON_APPROVAL       673065\n",
       "dtype: int64"
      ]
     },
     "execution_count": 182,
     "metadata": {},
     "output_type": "execute_result"
    }
   ],
   "source": [
    "df0.isnull().sum()"
   ]
  },
  {
   "cell_type": "markdown",
   "metadata": {},
   "source": [
    "### calculating the exact value for 30% missing values in the dataset"
   ]
  },
  {
   "cell_type": "code",
   "execution_count": 103,
   "metadata": {},
   "outputs": [
    {
     "data": {
      "text/plain": [
       "501064.2"
      ]
     },
     "execution_count": 103,
     "metadata": {},
     "output_type": "execute_result"
    }
   ],
   "source": [
    "float(1670214.0*30.0/100.0)"
   ]
  },
  {
   "cell_type": "code",
   "execution_count": 183,
   "metadata": {},
   "outputs": [],
   "source": [
    "# removing columns which having missing values more than 30%\n",
    "df0.drop(['AMT_DOWN_PAYMENT','RATE_DOWN_PAYMENT','RATE_INTEREST_PRIMARY','RATE_INTEREST_PRIVILEGED','NAME_TYPE_SUITE','DAYS_FIRST_DRAWING','DAYS_FIRST_DUE','DAYS_LAST_DUE_1ST_VERSION','DAYS_LAST_DUE','DAYS_TERMINATION','NFLAG_INSURED_ON_APPROVAL'],axis=1,inplace=True)"
   ]
  },
  {
   "cell_type": "code",
   "execution_count": 184,
   "metadata": {},
   "outputs": [
    {
     "data": {
      "text/plain": [
       "(1670214, 26)"
      ]
     },
     "execution_count": 184,
     "metadata": {},
     "output_type": "execute_result"
    }
   ],
   "source": [
    "df0.shape"
   ]
  },
  {
   "cell_type": "code",
   "execution_count": 185,
   "metadata": {
    "collapsed": true
   },
   "outputs": [
    {
     "data": {
      "text/plain": [
       "SK_ID_PREV                          0\n",
       "SK_ID_CURR                          0\n",
       "NAME_CONTRACT_TYPE                  0\n",
       "AMT_ANNUITY                    372235\n",
       "AMT_APPLICATION                     0\n",
       "AMT_CREDIT                          1\n",
       "AMT_GOODS_PRICE                385515\n",
       "WEEKDAY_APPR_PROCESS_START          0\n",
       "HOUR_APPR_PROCESS_START             0\n",
       "FLAG_LAST_APPL_PER_CONTRACT         0\n",
       "NFLAG_LAST_APPL_IN_DAY              0\n",
       "NAME_CASH_LOAN_PURPOSE              0\n",
       "NAME_CONTRACT_STATUS                0\n",
       "DAYS_DECISION                       0\n",
       "NAME_PAYMENT_TYPE                   0\n",
       "CODE_REJECT_REASON                  0\n",
       "NAME_CLIENT_TYPE                    0\n",
       "NAME_GOODS_CATEGORY                 0\n",
       "NAME_PORTFOLIO                      0\n",
       "NAME_PRODUCT_TYPE                   0\n",
       "CHANNEL_TYPE                        0\n",
       "SELLERPLACE_AREA                    0\n",
       "NAME_SELLER_INDUSTRY                0\n",
       "CNT_PAYMENT                    372230\n",
       "NAME_YIELD_GROUP                    0\n",
       "PRODUCT_COMBINATION               346\n",
       "dtype: int64"
      ]
     },
     "execution_count": 185,
     "metadata": {},
     "output_type": "execute_result"
    }
   ],
   "source": [
    "df0.isnull().sum()"
   ]
  },
  {
   "cell_type": "markdown",
   "metadata": {},
   "source": [
    "### for columns with missing values were we can replace with mode of the values performing the operation using fillna() method"
   ]
  },
  {
   "cell_type": "code",
   "execution_count": 186,
   "metadata": {},
   "outputs": [
    {
     "data": {
      "text/plain": [
       "12.0"
      ]
     },
     "execution_count": 186,
     "metadata": {},
     "output_type": "execute_result"
    }
   ],
   "source": [
    "# for the column CNT_PAYMENT replacing the missing value with the mode of the column\n",
    "df0_mode = df0.CNT_PAYMENT.mode()[0]\n",
    "df0_mode"
   ]
  },
  {
   "cell_type": "code",
   "execution_count": 187,
   "metadata": {},
   "outputs": [],
   "source": [
    "#applying mode function to the CNT_PAYMENT column\n",
    "df0.CNT_PAYMENT.fillna(df0_mode,inplace=True)"
   ]
  },
  {
   "cell_type": "code",
   "execution_count": 188,
   "metadata": {},
   "outputs": [
    {
     "data": {
      "text/plain": [
       "0"
      ]
     },
     "execution_count": 188,
     "metadata": {},
     "output_type": "execute_result"
    }
   ],
   "source": [
    "# checking the missing value for CNT_PAYMENT\n",
    "df0.CNT_PAYMENT.isnull().sum()"
   ]
  },
  {
   "cell_type": "code",
   "execution_count": 191,
   "metadata": {},
   "outputs": [
    {
     "data": {
      "text/plain": [
       "'Cash'"
      ]
     },
     "execution_count": 191,
     "metadata": {},
     "output_type": "execute_result"
    }
   ],
   "source": [
    "df0_mode1 = df0.PRODUCT_COMBINATION.mode()[0]\n",
    "df0_mode1"
   ]
  },
  {
   "cell_type": "code",
   "execution_count": 192,
   "metadata": {},
   "outputs": [],
   "source": [
    "df0.PRODUCT_COMBINATION.fillna(df0_mode1,inplace=True)"
   ]
  },
  {
   "cell_type": "code",
   "execution_count": 193,
   "metadata": {},
   "outputs": [
    {
     "data": {
      "text/plain": [
       "0"
      ]
     },
     "execution_count": 193,
     "metadata": {},
     "output_type": "execute_result"
    }
   ],
   "source": [
    "df0.PRODUCT_COMBINATION.isnull().sum()"
   ]
  },
  {
   "cell_type": "markdown",
   "metadata": {},
   "source": [
    "### For AMT_ANNUITY,AMT_CREDIT & AMT_GOODS_PRICE, we cannot replace the missing values with the mode, as we cant guarantee that these persons are likely to get any loaan or they are paying any annuity. and as the % of missing is less than 30% but greater than 10%, so making the missing value to 0 as to avoid any errors in our analysis and dropping these record would be deplecating having any valuable insights from them"
   ]
  },
  {
   "cell_type": "code",
   "execution_count": 194,
   "metadata": {},
   "outputs": [],
   "source": [
    "#replaces missing values with 0\n",
    "df0.AMT_ANNUITY.fillna(0,inplace=True)"
   ]
  },
  {
   "cell_type": "code",
   "execution_count": 195,
   "metadata": {},
   "outputs": [
    {
     "data": {
      "text/plain": [
       "0"
      ]
     },
     "execution_count": 195,
     "metadata": {},
     "output_type": "execute_result"
    }
   ],
   "source": [
    "df0.AMT_ANNUITY.isnull().sum()"
   ]
  },
  {
   "cell_type": "code",
   "execution_count": 196,
   "metadata": {},
   "outputs": [],
   "source": [
    "#replaces missing values with 0\n",
    "df0.AMT_GOODS_PRICE.fillna(0,inplace=True)"
   ]
  },
  {
   "cell_type": "code",
   "execution_count": 197,
   "metadata": {},
   "outputs": [
    {
     "data": {
      "text/plain": [
       "0"
      ]
     },
     "execution_count": 197,
     "metadata": {},
     "output_type": "execute_result"
    }
   ],
   "source": [
    "df0.AMT_GOODS_PRICE.isnull().sum()"
   ]
  },
  {
   "cell_type": "code",
   "execution_count": 198,
   "metadata": {
    "collapsed": true
   },
   "outputs": [
    {
     "data": {
      "text/plain": [
       "0.000         336768\n",
       "45000.000      35051\n",
       "225000.000     21094\n",
       "450000.000     19954\n",
       "135000.000     18720\n",
       "               ...  \n",
       "76031.595          1\n",
       "334656.000         1\n",
       "9279.000           1\n",
       "365733.000         1\n",
       "408915.000         1\n",
       "Name: AMT_CREDIT, Length: 86803, dtype: int64"
      ]
     },
     "execution_count": 198,
     "metadata": {},
     "output_type": "execute_result"
    }
   ],
   "source": [
    "df0.AMT_CREDIT.value_counts()"
   ]
  },
  {
   "cell_type": "code",
   "execution_count": 199,
   "metadata": {},
   "outputs": [],
   "source": [
    "df0.AMT_CREDIT.fillna(0,inplace=True)"
   ]
  },
  {
   "cell_type": "code",
   "execution_count": 153,
   "metadata": {},
   "outputs": [],
   "source": [
    "#df0.isnull().sum()"
   ]
  },
  {
   "cell_type": "code",
   "execution_count": 154,
   "metadata": {},
   "outputs": [],
   "source": [
    "#df0.info()"
   ]
  },
  {
   "cell_type": "code",
   "execution_count": 200,
   "metadata": {
    "collapsed": true
   },
   "outputs": [
    {
     "data": {
      "text/html": [
       "<div>\n",
       "<style scoped>\n",
       "    .dataframe tbody tr th:only-of-type {\n",
       "        vertical-align: middle;\n",
       "    }\n",
       "\n",
       "    .dataframe tbody tr th {\n",
       "        vertical-align: top;\n",
       "    }\n",
       "\n",
       "    .dataframe thead th {\n",
       "        text-align: right;\n",
       "    }\n",
       "</style>\n",
       "<table border=\"1\" class=\"dataframe\">\n",
       "  <thead>\n",
       "    <tr style=\"text-align: right;\">\n",
       "      <th></th>\n",
       "      <th>SK_ID_PREV</th>\n",
       "      <th>SK_ID_CURR</th>\n",
       "      <th>NAME_CONTRACT_TYPE</th>\n",
       "      <th>AMT_ANNUITY</th>\n",
       "      <th>AMT_APPLICATION</th>\n",
       "      <th>AMT_CREDIT</th>\n",
       "      <th>AMT_GOODS_PRICE</th>\n",
       "      <th>WEEKDAY_APPR_PROCESS_START</th>\n",
       "      <th>HOUR_APPR_PROCESS_START</th>\n",
       "      <th>FLAG_LAST_APPL_PER_CONTRACT</th>\n",
       "      <th>...</th>\n",
       "      <th>NAME_CLIENT_TYPE</th>\n",
       "      <th>NAME_GOODS_CATEGORY</th>\n",
       "      <th>NAME_PORTFOLIO</th>\n",
       "      <th>NAME_PRODUCT_TYPE</th>\n",
       "      <th>CHANNEL_TYPE</th>\n",
       "      <th>SELLERPLACE_AREA</th>\n",
       "      <th>NAME_SELLER_INDUSTRY</th>\n",
       "      <th>CNT_PAYMENT</th>\n",
       "      <th>NAME_YIELD_GROUP</th>\n",
       "      <th>PRODUCT_COMBINATION</th>\n",
       "    </tr>\n",
       "  </thead>\n",
       "  <tbody>\n",
       "    <tr>\n",
       "      <th>0</th>\n",
       "      <td>2030495</td>\n",
       "      <td>271877</td>\n",
       "      <td>Consumer loans</td>\n",
       "      <td>1730.430</td>\n",
       "      <td>17145.0</td>\n",
       "      <td>17145.0</td>\n",
       "      <td>17145.0</td>\n",
       "      <td>SATURDAY</td>\n",
       "      <td>15</td>\n",
       "      <td>Y</td>\n",
       "      <td>...</td>\n",
       "      <td>Repeater</td>\n",
       "      <td>Mobile</td>\n",
       "      <td>POS</td>\n",
       "      <td>XNA</td>\n",
       "      <td>Country-wide</td>\n",
       "      <td>35</td>\n",
       "      <td>Connectivity</td>\n",
       "      <td>12.0</td>\n",
       "      <td>middle</td>\n",
       "      <td>POS mobile with interest</td>\n",
       "    </tr>\n",
       "    <tr>\n",
       "      <th>1</th>\n",
       "      <td>2802425</td>\n",
       "      <td>108129</td>\n",
       "      <td>Cash loans</td>\n",
       "      <td>25188.615</td>\n",
       "      <td>607500.0</td>\n",
       "      <td>679671.0</td>\n",
       "      <td>607500.0</td>\n",
       "      <td>THURSDAY</td>\n",
       "      <td>11</td>\n",
       "      <td>Y</td>\n",
       "      <td>...</td>\n",
       "      <td>Repeater</td>\n",
       "      <td>XNA</td>\n",
       "      <td>Cash</td>\n",
       "      <td>x-sell</td>\n",
       "      <td>Contact center</td>\n",
       "      <td>-1</td>\n",
       "      <td>XNA</td>\n",
       "      <td>36.0</td>\n",
       "      <td>low_action</td>\n",
       "      <td>Cash X-Sell: low</td>\n",
       "    </tr>\n",
       "    <tr>\n",
       "      <th>2</th>\n",
       "      <td>2523466</td>\n",
       "      <td>122040</td>\n",
       "      <td>Cash loans</td>\n",
       "      <td>15060.735</td>\n",
       "      <td>112500.0</td>\n",
       "      <td>136444.5</td>\n",
       "      <td>112500.0</td>\n",
       "      <td>TUESDAY</td>\n",
       "      <td>11</td>\n",
       "      <td>Y</td>\n",
       "      <td>...</td>\n",
       "      <td>Repeater</td>\n",
       "      <td>XNA</td>\n",
       "      <td>Cash</td>\n",
       "      <td>x-sell</td>\n",
       "      <td>Credit and cash offices</td>\n",
       "      <td>-1</td>\n",
       "      <td>XNA</td>\n",
       "      <td>12.0</td>\n",
       "      <td>high</td>\n",
       "      <td>Cash X-Sell: high</td>\n",
       "    </tr>\n",
       "  </tbody>\n",
       "</table>\n",
       "<p>3 rows × 26 columns</p>\n",
       "</div>"
      ],
      "text/plain": [
       "   SK_ID_PREV  SK_ID_CURR NAME_CONTRACT_TYPE  AMT_ANNUITY  AMT_APPLICATION  \\\n",
       "0     2030495      271877     Consumer loans     1730.430          17145.0   \n",
       "1     2802425      108129         Cash loans    25188.615         607500.0   \n",
       "2     2523466      122040         Cash loans    15060.735         112500.0   \n",
       "\n",
       "   AMT_CREDIT  AMT_GOODS_PRICE WEEKDAY_APPR_PROCESS_START  \\\n",
       "0     17145.0          17145.0                   SATURDAY   \n",
       "1    679671.0         607500.0                   THURSDAY   \n",
       "2    136444.5         112500.0                    TUESDAY   \n",
       "\n",
       "   HOUR_APPR_PROCESS_START FLAG_LAST_APPL_PER_CONTRACT  ...  NAME_CLIENT_TYPE  \\\n",
       "0                       15                           Y  ...          Repeater   \n",
       "1                       11                           Y  ...          Repeater   \n",
       "2                       11                           Y  ...          Repeater   \n",
       "\n",
       "  NAME_GOODS_CATEGORY NAME_PORTFOLIO  NAME_PRODUCT_TYPE  \\\n",
       "0              Mobile            POS                XNA   \n",
       "1                 XNA           Cash             x-sell   \n",
       "2                 XNA           Cash             x-sell   \n",
       "\n",
       "              CHANNEL_TYPE SELLERPLACE_AREA NAME_SELLER_INDUSTRY CNT_PAYMENT  \\\n",
       "0             Country-wide               35         Connectivity        12.0   \n",
       "1           Contact center               -1                  XNA        36.0   \n",
       "2  Credit and cash offices               -1                  XNA        12.0   \n",
       "\n",
       "  NAME_YIELD_GROUP       PRODUCT_COMBINATION  \n",
       "0           middle  POS mobile with interest  \n",
       "1       low_action          Cash X-Sell: low  \n",
       "2             high         Cash X-Sell: high  \n",
       "\n",
       "[3 rows x 26 columns]"
      ]
     },
     "execution_count": 200,
     "metadata": {},
     "output_type": "execute_result"
    }
   ],
   "source": [
    "df0.head(3)"
   ]
  },
  {
   "cell_type": "markdown",
   "metadata": {},
   "source": [
    "## Identifying outliers using boxplot for the numerical data"
   ]
  },
  {
   "cell_type": "markdown",
   "metadata": {},
   "source": [
    "#### we are having a lot of outliers in every amount column but as per the case scenario not performing any operations on outliers but as to mention if its necessary to perform i would consider the records upto 99 percentile and drop the rest cause outliers are making the analysis tough."
   ]
  },
  {
   "cell_type": "code",
   "execution_count": 201,
   "metadata": {},
   "outputs": [
    {
     "data": {
      "image/png": "[encoded data removed]",
      "text/plain": [
       "<Figure size 720x360 with 1 Axes>"
      ]
     },
     "metadata": {
      "needs_background": "light"
     },
     "output_type": "display_data"
    }
   ],
   "source": [
    "#showing the ouliers obsorved on AMT_GOODS_PRICE\n",
    "plt.figure(figsize=(10,5))\n",
    "sns.boxplot(df0.AMT_GOODS_PRICE)\n",
    "plt.show()"
   ]
  },
  {
   "cell_type": "markdown",
   "metadata": {},
   "source": [
    "#### making DAYS_DECISION column to absolute using abs()"
   ]
  },
  {
   "cell_type": "code",
   "execution_count": 214,
   "metadata": {},
   "outputs": [],
   "source": [
    "df0.DAYS_DECISION = df0.DAYS_DECISION.abs()"
   ]
  },
  {
   "cell_type": "markdown",
   "metadata": {},
   "source": [
    "## for the column SELLERPLACE_AREA there are many values with -1 which are clearly null values making this values null using np.NAN method"
   ]
  },
  {
   "cell_type": "code",
   "execution_count": 209,
   "metadata": {},
   "outputs": [
    {
     "data": {
      "text/plain": [
       "count    1.670214e+06\n",
       "mean     3.139511e+02\n",
       "std      7.127443e+03\n",
       "min     -1.000000e+00\n",
       "25%     -1.000000e+00\n",
       "50%      3.000000e+00\n",
       "75%      8.200000e+01\n",
       "max      4.000000e+06\n",
       "Name: SELLERPLACE_AREA, dtype: float64"
      ]
     },
     "execution_count": 209,
     "metadata": {},
     "output_type": "execute_result"
    }
   ],
   "source": [
    "df0.SELLERPLACE_AREA.describe()"
   ]
  },
  {
   "cell_type": "code",
   "execution_count": 210,
   "metadata": {},
   "outputs": [],
   "source": [
    "df0.loc[df0.SELLERPLACE_AREA<0,'SELLERPLACE_AREA']=np.NaN"
   ]
  },
  {
   "cell_type": "code",
   "execution_count": 211,
   "metadata": {},
   "outputs": [
    {
     "data": {
      "text/plain": [
       "count    9.075390e+05\n",
       "mean     5.786288e+02\n",
       "std      9.661191e+03\n",
       "min      0.000000e+00\n",
       "25%      2.500000e+01\n",
       "50%      6.500000e+01\n",
       "75%      3.510000e+02\n",
       "max      4.000000e+06\n",
       "Name: SELLERPLACE_AREA, dtype: float64"
      ]
     },
     "execution_count": 211,
     "metadata": {},
     "output_type": "execute_result"
    }
   ],
   "source": [
    "df0.SELLERPLACE_AREA.describe()"
   ]
  },
  {
   "cell_type": "markdown",
   "metadata": {},
   "source": [
    "#### type casting float datatypes to int in the required columns"
   ]
  },
  {
   "cell_type": "code",
   "execution_count": 456,
   "metadata": {},
   "outputs": [],
   "source": [
    "df0.AMT_ANNUITY = df0.AMT_ANNUITY.round(0).astype(int)\n",
    "df0.AMT_APPLICATION = df0.AMT_APPLICATION.round(0).astype(int)\n",
    "df0.AMT_CREDIT = df0.AMT_CREDIT.round(0).astype(int)\n",
    "df0.AMT_GOODS_PRICE = df0.AMT_GOODS_PRICE.round(0).astype(int)\n",
    "df0.CNT_PAYMENT = df0.CNT_PAYMENT.astype(int)"
   ]
  },
  {
   "cell_type": "code",
   "execution_count": 457,
   "metadata": {
    "collapsed": true
   },
   "outputs": [
    {
     "name": "stdout",
     "output_type": "stream",
     "text": [
      "<class 'pandas.core.frame.DataFrame'>\n",
      "RangeIndex: 1670214 entries, 0 to 1670213\n",
      "Data columns (total 26 columns):\n",
      " #   Column                       Non-Null Count    Dtype  \n",
      "---  ------                       --------------    -----  \n",
      " 0   SK_ID_PREV                   1670214 non-null  int64  \n",
      " 1   SK_ID_CURR                   1670214 non-null  int64  \n",
      " 2   NAME_CONTRACT_TYPE           1670214 non-null  object \n",
      " 3   AMT_ANNUITY                  1670214 non-null  int32  \n",
      " 4   AMT_APPLICATION              1670214 non-null  int32  \n",
      " 5   AMT_CREDIT                   1670214 non-null  int32  \n",
      " 6   AMT_GOODS_PRICE              1670214 non-null  int32  \n",
      " 7   WEEKDAY_APPR_PROCESS_START   1670214 non-null  object \n",
      " 8   HOUR_APPR_PROCESS_START      1670214 non-null  int64  \n",
      " 9   FLAG_LAST_APPL_PER_CONTRACT  1670214 non-null  object \n",
      " 10  NFLAG_LAST_APPL_IN_DAY       1670214 non-null  int64  \n",
      " 11  NAME_CASH_LOAN_PURPOSE       1670214 non-null  object \n",
      " 12  NAME_CONTRACT_STATUS         1670214 non-null  object \n",
      " 13  DAYS_DECISION                1670214 non-null  int64  \n",
      " 14  NAME_PAYMENT_TYPE            1670214 non-null  object \n",
      " 15  CODE_REJECT_REASON           1670214 non-null  object \n",
      " 16  NAME_CLIENT_TYPE             1670214 non-null  object \n",
      " 17  NAME_GOODS_CATEGORY          1670214 non-null  object \n",
      " 18  NAME_PORTFOLIO               1670214 non-null  object \n",
      " 19  NAME_PRODUCT_TYPE            1670214 non-null  object \n",
      " 20  CHANNEL_TYPE                 1670214 non-null  object \n",
      " 21  SELLERPLACE_AREA             907539 non-null   float64\n",
      " 22  NAME_SELLER_INDUSTRY         1670214 non-null  object \n",
      " 23  CNT_PAYMENT                  1670214 non-null  int32  \n",
      " 24  NAME_YIELD_GROUP             1670214 non-null  object \n",
      " 25  PRODUCT_COMBINATION          1670214 non-null  object \n",
      "dtypes: float64(1), int32(5), int64(5), object(15)\n",
      "memory usage: 299.5+ MB\n"
     ]
    }
   ],
   "source": [
    "df0.info()"
   ]
  },
  {
   "cell_type": "markdown",
   "metadata": {},
   "source": [
    "# done with data cleaning performing analysis on df1"
   ]
  },
  {
   "cell_type": "markdown",
   "metadata": {},
   "source": [
    "### creating tg1 & tg2 data set as to seperate all the target variables having value (1 = tg1, 0 = tg0 : were '1' represnets these are are the people having difficulties in their payments, '0' represents rest all cases )"
   ]
  },
  {
   "cell_type": "code",
   "execution_count": 317,
   "metadata": {},
   "outputs": [],
   "source": [
    "tg1 = df1[df1['TARGET']==1]"
   ]
  },
  {
   "cell_type": "code",
   "execution_count": 318,
   "metadata": {},
   "outputs": [],
   "source": [
    "tg0 = df1[df1['TARGET']==0]"
   ]
  },
  {
   "cell_type": "code",
   "execution_count": 320,
   "metadata": {},
   "outputs": [
    {
     "data": {
      "text/plain": [
       "(24719, 34)"
      ]
     },
     "execution_count": 320,
     "metadata": {},
     "output_type": "execute_result"
    }
   ],
   "source": [
    "tg1.shape"
   ]
  },
  {
   "cell_type": "code",
   "execution_count": 321,
   "metadata": {},
   "outputs": [
    {
     "data": {
      "text/plain": [
       "(280466, 34)"
      ]
     },
     "execution_count": 321,
     "metadata": {},
     "output_type": "execute_result"
    }
   ],
   "source": [
    "tg0.shape"
   ]
  },
  {
   "cell_type": "code",
   "execution_count": 322,
   "metadata": {
    "collapsed": true
   },
   "outputs": [
    {
     "data": {
      "text/html": [
       "<div>\n",
       "<style scoped>\n",
       "    .dataframe tbody tr th:only-of-type {\n",
       "        vertical-align: middle;\n",
       "    }\n",
       "\n",
       "    .dataframe tbody tr th {\n",
       "        vertical-align: top;\n",
       "    }\n",
       "\n",
       "    .dataframe thead th {\n",
       "        text-align: right;\n",
       "    }\n",
       "</style>\n",
       "<table border=\"1\" class=\"dataframe\">\n",
       "  <thead>\n",
       "    <tr style=\"text-align: right;\">\n",
       "      <th></th>\n",
       "      <th>SK_ID_CURR</th>\n",
       "      <th>TARGET</th>\n",
       "      <th>NAME_CONTRACT_TYPE</th>\n",
       "      <th>CODE_GENDER</th>\n",
       "      <th>FLAG_OWN_CAR</th>\n",
       "      <th>FLAG_OWN_REALTY</th>\n",
       "      <th>CNT_CHILDREN</th>\n",
       "      <th>AMT_INCOME_TOTAL</th>\n",
       "      <th>AMT_CREDIT</th>\n",
       "      <th>AMT_ANNUITY</th>\n",
       "      <th>...</th>\n",
       "      <th>LIVE_REGION_NOT_WORK_REGION</th>\n",
       "      <th>REG_CITY_NOT_LIVE_CITY</th>\n",
       "      <th>REG_CITY_NOT_WORK_CITY</th>\n",
       "      <th>LIVE_CITY_NOT_WORK_CITY</th>\n",
       "      <th>ORGANIZATION_TYPE</th>\n",
       "      <th>OBS_30_CNT_SOCIAL_CIRCLE</th>\n",
       "      <th>DEF_30_CNT_SOCIAL_CIRCLE</th>\n",
       "      <th>OBS_60_CNT_SOCIAL_CIRCLE</th>\n",
       "      <th>DEF_60_CNT_SOCIAL_CIRCLE</th>\n",
       "      <th>DAYS_LAST_PHONE_CHANGE</th>\n",
       "    </tr>\n",
       "  </thead>\n",
       "  <tbody>\n",
       "    <tr>\n",
       "      <th>0</th>\n",
       "      <td>100002</td>\n",
       "      <td>1</td>\n",
       "      <td>Cash loans</td>\n",
       "      <td>M</td>\n",
       "      <td>N</td>\n",
       "      <td>Y</td>\n",
       "      <td>0</td>\n",
       "      <td>202500</td>\n",
       "      <td>406598</td>\n",
       "      <td>24700</td>\n",
       "      <td>...</td>\n",
       "      <td>0</td>\n",
       "      <td>0</td>\n",
       "      <td>0</td>\n",
       "      <td>0</td>\n",
       "      <td>Business Entity Type 3</td>\n",
       "      <td>2</td>\n",
       "      <td>2</td>\n",
       "      <td>2</td>\n",
       "      <td>2</td>\n",
       "      <td>1134</td>\n",
       "    </tr>\n",
       "    <tr>\n",
       "      <th>26</th>\n",
       "      <td>100031</td>\n",
       "      <td>1</td>\n",
       "      <td>Cash loans</td>\n",
       "      <td>F</td>\n",
       "      <td>N</td>\n",
       "      <td>Y</td>\n",
       "      <td>0</td>\n",
       "      <td>112500</td>\n",
       "      <td>979992</td>\n",
       "      <td>27076</td>\n",
       "      <td>...</td>\n",
       "      <td>0</td>\n",
       "      <td>0</td>\n",
       "      <td>0</td>\n",
       "      <td>0</td>\n",
       "      <td>Business Entity Type 3</td>\n",
       "      <td>10</td>\n",
       "      <td>1</td>\n",
       "      <td>10</td>\n",
       "      <td>0</td>\n",
       "      <td>161</td>\n",
       "    </tr>\n",
       "    <tr>\n",
       "      <th>40</th>\n",
       "      <td>100047</td>\n",
       "      <td>1</td>\n",
       "      <td>Cash loans</td>\n",
       "      <td>M</td>\n",
       "      <td>N</td>\n",
       "      <td>Y</td>\n",
       "      <td>0</td>\n",
       "      <td>202500</td>\n",
       "      <td>1193580</td>\n",
       "      <td>35028</td>\n",
       "      <td>...</td>\n",
       "      <td>0</td>\n",
       "      <td>0</td>\n",
       "      <td>0</td>\n",
       "      <td>0</td>\n",
       "      <td>Business Entity Type 3</td>\n",
       "      <td>0</td>\n",
       "      <td>0</td>\n",
       "      <td>0</td>\n",
       "      <td>0</td>\n",
       "      <td>1075</td>\n",
       "    </tr>\n",
       "  </tbody>\n",
       "</table>\n",
       "<p>3 rows × 34 columns</p>\n",
       "</div>"
      ],
      "text/plain": [
       "    SK_ID_CURR  TARGET NAME_CONTRACT_TYPE CODE_GENDER FLAG_OWN_CAR  \\\n",
       "0       100002       1         Cash loans           M            N   \n",
       "26      100031       1         Cash loans           F            N   \n",
       "40      100047       1         Cash loans           M            N   \n",
       "\n",
       "   FLAG_OWN_REALTY  CNT_CHILDREN  AMT_INCOME_TOTAL  AMT_CREDIT  AMT_ANNUITY  \\\n",
       "0                Y             0            202500      406598        24700   \n",
       "26               Y             0            112500      979992        27076   \n",
       "40               Y             0            202500     1193580        35028   \n",
       "\n",
       "    ...  LIVE_REGION_NOT_WORK_REGION REG_CITY_NOT_LIVE_CITY  \\\n",
       "0   ...                            0                      0   \n",
       "26  ...                            0                      0   \n",
       "40  ...                            0                      0   \n",
       "\n",
       "   REG_CITY_NOT_WORK_CITY LIVE_CITY_NOT_WORK_CITY       ORGANIZATION_TYPE  \\\n",
       "0                       0                       0  Business Entity Type 3   \n",
       "26                      0                       0  Business Entity Type 3   \n",
       "40                      0                       0  Business Entity Type 3   \n",
       "\n",
       "   OBS_30_CNT_SOCIAL_CIRCLE  DEF_30_CNT_SOCIAL_CIRCLE  \\\n",
       "0                         2                         2   \n",
       "26                       10                         1   \n",
       "40                        0                         0   \n",
       "\n",
       "    OBS_60_CNT_SOCIAL_CIRCLE  DEF_60_CNT_SOCIAL_CIRCLE  DAYS_LAST_PHONE_CHANGE  \n",
       "0                          2                         2                    1134  \n",
       "26                        10                         0                     161  \n",
       "40                         0                         0                    1075  \n",
       "\n",
       "[3 rows x 34 columns]"
      ]
     },
     "execution_count": 322,
     "metadata": {},
     "output_type": "execute_result"
    }
   ],
   "source": [
    "tg1.head(3)"
   ]
  },
  {
   "cell_type": "code",
   "execution_count": 323,
   "metadata": {
    "collapsed": true
   },
   "outputs": [
    {
     "data": {
      "text/html": [
       "<div>\n",
       "<style scoped>\n",
       "    .dataframe tbody tr th:only-of-type {\n",
       "        vertical-align: middle;\n",
       "    }\n",
       "\n",
       "    .dataframe tbody tr th {\n",
       "        vertical-align: top;\n",
       "    }\n",
       "\n",
       "    .dataframe thead th {\n",
       "        text-align: right;\n",
       "    }\n",
       "</style>\n",
       "<table border=\"1\" class=\"dataframe\">\n",
       "  <thead>\n",
       "    <tr style=\"text-align: right;\">\n",
       "      <th></th>\n",
       "      <th>SK_ID_CURR</th>\n",
       "      <th>TARGET</th>\n",
       "      <th>NAME_CONTRACT_TYPE</th>\n",
       "      <th>CODE_GENDER</th>\n",
       "      <th>FLAG_OWN_CAR</th>\n",
       "      <th>FLAG_OWN_REALTY</th>\n",
       "      <th>CNT_CHILDREN</th>\n",
       "      <th>AMT_INCOME_TOTAL</th>\n",
       "      <th>AMT_CREDIT</th>\n",
       "      <th>AMT_ANNUITY</th>\n",
       "      <th>...</th>\n",
       "      <th>LIVE_REGION_NOT_WORK_REGION</th>\n",
       "      <th>REG_CITY_NOT_LIVE_CITY</th>\n",
       "      <th>REG_CITY_NOT_WORK_CITY</th>\n",
       "      <th>LIVE_CITY_NOT_WORK_CITY</th>\n",
       "      <th>ORGANIZATION_TYPE</th>\n",
       "      <th>OBS_30_CNT_SOCIAL_CIRCLE</th>\n",
       "      <th>DEF_30_CNT_SOCIAL_CIRCLE</th>\n",
       "      <th>OBS_60_CNT_SOCIAL_CIRCLE</th>\n",
       "      <th>DEF_60_CNT_SOCIAL_CIRCLE</th>\n",
       "      <th>DAYS_LAST_PHONE_CHANGE</th>\n",
       "    </tr>\n",
       "  </thead>\n",
       "  <tbody>\n",
       "    <tr>\n",
       "      <th>1</th>\n",
       "      <td>100003</td>\n",
       "      <td>0</td>\n",
       "      <td>Cash loans</td>\n",
       "      <td>F</td>\n",
       "      <td>N</td>\n",
       "      <td>N</td>\n",
       "      <td>0</td>\n",
       "      <td>270000</td>\n",
       "      <td>1293502</td>\n",
       "      <td>35698</td>\n",
       "      <td>...</td>\n",
       "      <td>0</td>\n",
       "      <td>0</td>\n",
       "      <td>0</td>\n",
       "      <td>0</td>\n",
       "      <td>School</td>\n",
       "      <td>1</td>\n",
       "      <td>0</td>\n",
       "      <td>1</td>\n",
       "      <td>0</td>\n",
       "      <td>828</td>\n",
       "    </tr>\n",
       "    <tr>\n",
       "      <th>2</th>\n",
       "      <td>100004</td>\n",
       "      <td>0</td>\n",
       "      <td>Revolving loans</td>\n",
       "      <td>M</td>\n",
       "      <td>Y</td>\n",
       "      <td>Y</td>\n",
       "      <td>0</td>\n",
       "      <td>67500</td>\n",
       "      <td>135000</td>\n",
       "      <td>6750</td>\n",
       "      <td>...</td>\n",
       "      <td>0</td>\n",
       "      <td>0</td>\n",
       "      <td>0</td>\n",
       "      <td>0</td>\n",
       "      <td>Government</td>\n",
       "      <td>0</td>\n",
       "      <td>0</td>\n",
       "      <td>0</td>\n",
       "      <td>0</td>\n",
       "      <td>815</td>\n",
       "    </tr>\n",
       "    <tr>\n",
       "      <th>3</th>\n",
       "      <td>100006</td>\n",
       "      <td>0</td>\n",
       "      <td>Cash loans</td>\n",
       "      <td>F</td>\n",
       "      <td>N</td>\n",
       "      <td>Y</td>\n",
       "      <td>0</td>\n",
       "      <td>135000</td>\n",
       "      <td>312682</td>\n",
       "      <td>29686</td>\n",
       "      <td>...</td>\n",
       "      <td>0</td>\n",
       "      <td>0</td>\n",
       "      <td>0</td>\n",
       "      <td>0</td>\n",
       "      <td>Business Entity Type 3</td>\n",
       "      <td>2</td>\n",
       "      <td>0</td>\n",
       "      <td>2</td>\n",
       "      <td>0</td>\n",
       "      <td>617</td>\n",
       "    </tr>\n",
       "  </tbody>\n",
       "</table>\n",
       "<p>3 rows × 34 columns</p>\n",
       "</div>"
      ],
      "text/plain": [
       "   SK_ID_CURR  TARGET NAME_CONTRACT_TYPE CODE_GENDER FLAG_OWN_CAR  \\\n",
       "1      100003       0         Cash loans           F            N   \n",
       "2      100004       0    Revolving loans           M            Y   \n",
       "3      100006       0         Cash loans           F            N   \n",
       "\n",
       "  FLAG_OWN_REALTY  CNT_CHILDREN  AMT_INCOME_TOTAL  AMT_CREDIT  AMT_ANNUITY  \\\n",
       "1               N             0            270000     1293502        35698   \n",
       "2               Y             0             67500      135000         6750   \n",
       "3               Y             0            135000      312682        29686   \n",
       "\n",
       "   ...  LIVE_REGION_NOT_WORK_REGION REG_CITY_NOT_LIVE_CITY  \\\n",
       "1  ...                            0                      0   \n",
       "2  ...                            0                      0   \n",
       "3  ...                            0                      0   \n",
       "\n",
       "  REG_CITY_NOT_WORK_CITY LIVE_CITY_NOT_WORK_CITY       ORGANIZATION_TYPE  \\\n",
       "1                      0                       0                  School   \n",
       "2                      0                       0              Government   \n",
       "3                      0                       0  Business Entity Type 3   \n",
       "\n",
       "  OBS_30_CNT_SOCIAL_CIRCLE  DEF_30_CNT_SOCIAL_CIRCLE  \\\n",
       "1                        1                         0   \n",
       "2                        0                         0   \n",
       "3                        2                         0   \n",
       "\n",
       "   OBS_60_CNT_SOCIAL_CIRCLE  DEF_60_CNT_SOCIAL_CIRCLE  DAYS_LAST_PHONE_CHANGE  \n",
       "1                         1                         0                     828  \n",
       "2                         0                         0                     815  \n",
       "3                         2                         0                     617  \n",
       "\n",
       "[3 rows x 34 columns]"
      ]
     },
     "execution_count": 323,
     "metadata": {},
     "output_type": "execute_result"
    }
   ],
   "source": [
    "tg0.head(3)"
   ]
  },
  {
   "cell_type": "markdown",
   "metadata": {},
   "source": [
    "# UNIVARIATE ANALYSIS \n",
    "### categorical"
   ]
  },
  {
   "cell_type": "code",
   "execution_count": 489,
   "metadata": {},
   "outputs": [
    {
     "data": {
      "image/png": "[encoded data removed]",
      "text/plain": [
       "<Figure size 432x288 with 1 Axes>"
      ]
     },
     "metadata": {
      "needs_background": "light"
     },
     "output_type": "display_data"
    },
    {
     "data": {
      "image/png": "[encoded data removed]",
      "text/plain": [
       "<Figure size 432x288 with 1 Axes>"
      ]
     },
     "metadata": {
      "needs_background": "light"
     },
     "output_type": "display_data"
    }
   ],
   "source": [
    "# plotting bar graph for FLAG_OWN_REALTY\n",
    "tg1.FLAG_OWN_REALTY.value_counts().plot.barh()\n",
    "plt.title('T = 1 for FLAG_OWN_REALTY')\n",
    "plt.show()\n",
    "tg0.FLAG_OWN_REALTY.value_counts().plot.barh()\n",
    "plt.title('T = 0  forFLAG_OWN_REALTY')\n",
    "plt.show()"
   ]
  },
  {
   "cell_type": "markdown",
   "metadata": {},
   "source": [
    "### we may not directly come to conclussion here but as we observe that people having no flat are likely to have difficulteis in their payments, we may consider this as one inference"
   ]
  },
  {
   "cell_type": "code",
   "execution_count": 326,
   "metadata": {},
   "outputs": [
    {
     "data": {
      "image/png": "[encoded data removed]",
      "text/plain": [
       "<Figure size 432x288 with 1 Axes>"
      ]
     },
     "metadata": {
      "needs_background": "light"
     },
     "output_type": "display_data"
    },
    {
     "data": {
      "image/png": "[encoded data removed]",
      "text/plain": [
       "<Figure size 432x288 with 1 Axes>"
      ]
     },
     "metadata": {
      "needs_background": "light"
     },
     "output_type": "display_data"
    }
   ],
   "source": [
    "# plotting bar graph for NAME_EDUCATION_TYPE\n",
    "tg1.NAME_EDUCATION_TYPE.value_counts().plot.barh()\n",
    "plt.title('target value 1')\n",
    "plt.show()\n",
    "tg0.NAME_EDUCATION_TYPE.value_counts().plot.barh()\n",
    "plt.title('target value 0')\n",
    "plt.show()"
   ]
  },
  {
   "cell_type": "markdown",
   "metadata": {},
   "source": [
    "### on observing the bar graph on education type its evident that most of the people availing loans are of 2 categories higher and secondary education from these two higher educated people are most likely to have difficulties with payments rather than other education categories."
   ]
  },
  {
   "cell_type": "code",
   "execution_count": 327,
   "metadata": {},
   "outputs": [
    {
     "data": {
      "image/png": "[encoded data removed]",
      "text/plain": [
       "<Figure size 432x288 with 1 Axes>"
      ]
     },
     "metadata": {
      "needs_background": "light"
     },
     "output_type": "display_data"
    },
    {
     "data": {
      "image/png": "[encoded data removed]",
      "text/plain": [
       "<Figure size 432x288 with 1 Axes>"
      ]
     },
     "metadata": {
      "needs_background": "light"
     },
     "output_type": "display_data"
    }
   ],
   "source": [
    "# plotting bar graph for NAME_FAMILY_STATUS\n",
    "tg1.NAME_FAMILY_STATUS.value_counts().plot.barh()\n",
    "plt.title('target value 1')\n",
    "plt.show()\n",
    "tg0.NAME_FAMILY_STATUS.value_counts().plot.barh()\n",
    "plt.title('target value 0')\n",
    "plt.show()"
   ]
  },
  {
   "cell_type": "markdown",
   "metadata": {},
   "source": [
    "### married people are most likely to apply for loans also have the good payments records on comparing the people who are single ironically these are facing challenges in their payments thats clearly visible in the above bar graph."
   ]
  },
  {
   "cell_type": "code",
   "execution_count": 328,
   "metadata": {},
   "outputs": [
    {
     "data": {
      "image/png": "[encoded data removed]",
      "text/plain": [
       "<Figure size 432x288 with 1 Axes>"
      ]
     },
     "metadata": {
      "needs_background": "light"
     },
     "output_type": "display_data"
    },
    {
     "data": {
      "image/png": "[encoded data removed]",
      "text/plain": [
       "<Figure size 432x288 with 1 Axes>"
      ]
     },
     "metadata": {
      "needs_background": "light"
     },
     "output_type": "display_data"
    }
   ],
   "source": [
    "# plotting bar graph for NAME_HOUSING_TYPE\n",
    "tg1.NAME_HOUSING_TYPE.value_counts().plot.barh()\n",
    "plt.title('target value 1')\n",
    "plt.show()\n",
    "tg0.NAME_HOUSING_TYPE.value_counts().plot.barh()\n",
    "plt.title('target value 0')\n",
    "plt.show()"
   ]
  },
  {
   "cell_type": "markdown",
   "metadata": {},
   "source": [
    "### performing bar graph on housing type we find that lot of people who applied for loan are living in either appartment / house and the next larger category are living with parents and these are the people we need to consider during their application as the data suggest that these are likely to become defaulters or may face difficulties during payments."
   ]
  },
  {
   "cell_type": "code",
   "execution_count": 330,
   "metadata": {},
   "outputs": [
    {
     "data": {
      "image/png": "[encoded data removed]",
      "text/plain": [
       "<Figure size 432x288 with 1 Axes>"
      ]
     },
     "metadata": {
      "needs_background": "light"
     },
     "output_type": "display_data"
    },
    {
     "data": {
      "image/png": "[encoded data removed]",
      "text/plain": [
       "<Figure size 432x288 with 1 Axes>"
      ]
     },
     "metadata": {
      "needs_background": "light"
     },
     "output_type": "display_data"
    }
   ],
   "source": [
    "# plotting bar graph for REGION_RATING_CLIENT\n",
    "tg1.REGION_RATING_CLIENT.value_counts().plot.barh()\n",
    "plt.title('target value 1')\n",
    "plt.show()\n",
    "tg0.REGION_RATING_CLIENT.value_counts().plot.barh()\n",
    "plt.title('target value 0')\n",
    "plt.show()"
   ]
  },
  {
   "cell_type": "markdown",
   "metadata": {},
   "source": [
    "### on plotting bar graph in region wise rating according to the client location, unfortunately we dont have much clear anology on what these ratings exactly represents to which region, but people who are in region 3 are more likely to  to become defaulters or may face difficulties during payments. for the people with region code 1 or 2 may consider safe as per the data it not that there are no defaulters in these but the variance is much for the region 3 compare to the other."
   ]
  },
  {
   "cell_type": "code",
   "execution_count": 334,
   "metadata": {},
   "outputs": [
    {
     "data": {
      "image/png": "[encoded data removed]",
      "text/plain": [
       "<Figure size 432x288 with 1 Axes>"
      ]
     },
     "metadata": {},
     "output_type": "display_data"
    },
    {
     "data": {
      "image/png": "[encoded data removed]",
      "text/plain": [
       "<Figure size 432x288 with 1 Axes>"
      ]
     },
     "metadata": {},
     "output_type": "display_data"
    }
   ],
   "source": [
    "tg1.REG_CITY_NOT_LIVE_CITY.value_counts().plot.pie(autopct='%1.0f%%', pctdistance=1.1, labeldistance=1.2)\n",
    "plt.title('target value 1')\n",
    "plt.show()\n",
    "tg0.REG_CITY_NOT_LIVE_CITY.value_counts().plot.pie(autopct='%1.0f%%', pctdistance=1.1, labeldistance=1.2)\n",
    "plt.title('target value 0')\n",
    "plt.show()"
   ]
  },
  {
   "cell_type": "markdown",
   "metadata": {},
   "source": [
    "### data suggest that people whose permanent address is not same as the current address are more likely to face the challenges in payments"
   ]
  },
  {
   "cell_type": "code",
   "execution_count": null,
   "metadata": {},
   "outputs": [],
   "source": []
  },
  {
   "cell_type": "markdown",
   "metadata": {},
   "source": [
    "## creating a new column years_birth which is derived from DAYS_BIRTH on dividing the days by 365 as to convert it into years and then visualize the spread of age, also in the further analysis it will be easy for binning it into groups for age in years rather than days."
   ]
  },
  {
   "cell_type": "code",
   "execution_count": 339,
   "metadata": {},
   "outputs": [],
   "source": [
    "tg1['years_birth'] = tg1.DAYS_BIRTH.apply(lambda x: int(x/365))"
   ]
  },
  {
   "cell_type": "code",
   "execution_count": 340,
   "metadata": {
    "collapsed": true
   },
   "outputs": [
    {
     "data": {
      "text/html": [
       "<div>\n",
       "<style scoped>\n",
       "    .dataframe tbody tr th:only-of-type {\n",
       "        vertical-align: middle;\n",
       "    }\n",
       "\n",
       "    .dataframe tbody tr th {\n",
       "        vertical-align: top;\n",
       "    }\n",
       "\n",
       "    .dataframe thead th {\n",
       "        text-align: right;\n",
       "    }\n",
       "</style>\n",
       "<table border=\"1\" class=\"dataframe\">\n",
       "  <thead>\n",
       "    <tr style=\"text-align: right;\">\n",
       "      <th></th>\n",
       "      <th>SK_ID_CURR</th>\n",
       "      <th>TARGET</th>\n",
       "      <th>NAME_CONTRACT_TYPE</th>\n",
       "      <th>CODE_GENDER</th>\n",
       "      <th>FLAG_OWN_CAR</th>\n",
       "      <th>FLAG_OWN_REALTY</th>\n",
       "      <th>CNT_CHILDREN</th>\n",
       "      <th>AMT_INCOME_TOTAL</th>\n",
       "      <th>AMT_CREDIT</th>\n",
       "      <th>AMT_ANNUITY</th>\n",
       "      <th>...</th>\n",
       "      <th>REG_CITY_NOT_LIVE_CITY</th>\n",
       "      <th>REG_CITY_NOT_WORK_CITY</th>\n",
       "      <th>LIVE_CITY_NOT_WORK_CITY</th>\n",
       "      <th>ORGANIZATION_TYPE</th>\n",
       "      <th>OBS_30_CNT_SOCIAL_CIRCLE</th>\n",
       "      <th>DEF_30_CNT_SOCIAL_CIRCLE</th>\n",
       "      <th>OBS_60_CNT_SOCIAL_CIRCLE</th>\n",
       "      <th>DEF_60_CNT_SOCIAL_CIRCLE</th>\n",
       "      <th>DAYS_LAST_PHONE_CHANGE</th>\n",
       "      <th>years_birth</th>\n",
       "    </tr>\n",
       "  </thead>\n",
       "  <tbody>\n",
       "    <tr>\n",
       "      <th>0</th>\n",
       "      <td>100002</td>\n",
       "      <td>1</td>\n",
       "      <td>Cash loans</td>\n",
       "      <td>M</td>\n",
       "      <td>N</td>\n",
       "      <td>Y</td>\n",
       "      <td>0</td>\n",
       "      <td>202500</td>\n",
       "      <td>406598</td>\n",
       "      <td>24700</td>\n",
       "      <td>...</td>\n",
       "      <td>0</td>\n",
       "      <td>0</td>\n",
       "      <td>0</td>\n",
       "      <td>Business Entity Type 3</td>\n",
       "      <td>2</td>\n",
       "      <td>2</td>\n",
       "      <td>2</td>\n",
       "      <td>2</td>\n",
       "      <td>1134</td>\n",
       "      <td>25</td>\n",
       "    </tr>\n",
       "    <tr>\n",
       "      <th>26</th>\n",
       "      <td>100031</td>\n",
       "      <td>1</td>\n",
       "      <td>Cash loans</td>\n",
       "      <td>F</td>\n",
       "      <td>N</td>\n",
       "      <td>Y</td>\n",
       "      <td>0</td>\n",
       "      <td>112500</td>\n",
       "      <td>979992</td>\n",
       "      <td>27076</td>\n",
       "      <td>...</td>\n",
       "      <td>0</td>\n",
       "      <td>0</td>\n",
       "      <td>0</td>\n",
       "      <td>Business Entity Type 3</td>\n",
       "      <td>10</td>\n",
       "      <td>1</td>\n",
       "      <td>10</td>\n",
       "      <td>0</td>\n",
       "      <td>161</td>\n",
       "      <td>51</td>\n",
       "    </tr>\n",
       "  </tbody>\n",
       "</table>\n",
       "<p>2 rows × 35 columns</p>\n",
       "</div>"
      ],
      "text/plain": [
       "    SK_ID_CURR  TARGET NAME_CONTRACT_TYPE CODE_GENDER FLAG_OWN_CAR  \\\n",
       "0       100002       1         Cash loans           M            N   \n",
       "26      100031       1         Cash loans           F            N   \n",
       "\n",
       "   FLAG_OWN_REALTY  CNT_CHILDREN  AMT_INCOME_TOTAL  AMT_CREDIT  AMT_ANNUITY  \\\n",
       "0                Y             0            202500      406598        24700   \n",
       "26               Y             0            112500      979992        27076   \n",
       "\n",
       "    ...  REG_CITY_NOT_LIVE_CITY REG_CITY_NOT_WORK_CITY  \\\n",
       "0   ...                       0                      0   \n",
       "26  ...                       0                      0   \n",
       "\n",
       "   LIVE_CITY_NOT_WORK_CITY       ORGANIZATION_TYPE OBS_30_CNT_SOCIAL_CIRCLE  \\\n",
       "0                        0  Business Entity Type 3                        2   \n",
       "26                       0  Business Entity Type 3                       10   \n",
       "\n",
       "   DEF_30_CNT_SOCIAL_CIRCLE  OBS_60_CNT_SOCIAL_CIRCLE  \\\n",
       "0                         2                         2   \n",
       "26                        1                        10   \n",
       "\n",
       "    DEF_60_CNT_SOCIAL_CIRCLE  DAYS_LAST_PHONE_CHANGE  years_birth  \n",
       "0                          2                    1134           25  \n",
       "26                         0                     161           51  \n",
       "\n",
       "[2 rows x 35 columns]"
      ]
     },
     "execution_count": 340,
     "metadata": {},
     "output_type": "execute_result"
    }
   ],
   "source": [
    "tg1.head(2)"
   ]
  },
  {
   "cell_type": "code",
   "execution_count": 341,
   "metadata": {},
   "outputs": [],
   "source": [
    "tg0['years_birth'] = tg0.DAYS_BIRTH.apply(lambda x: int(x/365))"
   ]
  },
  {
   "cell_type": "code",
   "execution_count": 342,
   "metadata": {
    "collapsed": true
   },
   "outputs": [
    {
     "data": {
      "text/html": [
       "<div>\n",
       "<style scoped>\n",
       "    .dataframe tbody tr th:only-of-type {\n",
       "        vertical-align: middle;\n",
       "    }\n",
       "\n",
       "    .dataframe tbody tr th {\n",
       "        vertical-align: top;\n",
       "    }\n",
       "\n",
       "    .dataframe thead th {\n",
       "        text-align: right;\n",
       "    }\n",
       "</style>\n",
       "<table border=\"1\" class=\"dataframe\">\n",
       "  <thead>\n",
       "    <tr style=\"text-align: right;\">\n",
       "      <th></th>\n",
       "      <th>SK_ID_CURR</th>\n",
       "      <th>TARGET</th>\n",
       "      <th>NAME_CONTRACT_TYPE</th>\n",
       "      <th>CODE_GENDER</th>\n",
       "      <th>FLAG_OWN_CAR</th>\n",
       "      <th>FLAG_OWN_REALTY</th>\n",
       "      <th>CNT_CHILDREN</th>\n",
       "      <th>AMT_INCOME_TOTAL</th>\n",
       "      <th>AMT_CREDIT</th>\n",
       "      <th>AMT_ANNUITY</th>\n",
       "      <th>...</th>\n",
       "      <th>REG_CITY_NOT_LIVE_CITY</th>\n",
       "      <th>REG_CITY_NOT_WORK_CITY</th>\n",
       "      <th>LIVE_CITY_NOT_WORK_CITY</th>\n",
       "      <th>ORGANIZATION_TYPE</th>\n",
       "      <th>OBS_30_CNT_SOCIAL_CIRCLE</th>\n",
       "      <th>DEF_30_CNT_SOCIAL_CIRCLE</th>\n",
       "      <th>OBS_60_CNT_SOCIAL_CIRCLE</th>\n",
       "      <th>DEF_60_CNT_SOCIAL_CIRCLE</th>\n",
       "      <th>DAYS_LAST_PHONE_CHANGE</th>\n",
       "      <th>years_birth</th>\n",
       "    </tr>\n",
       "  </thead>\n",
       "  <tbody>\n",
       "    <tr>\n",
       "      <th>1</th>\n",
       "      <td>100003</td>\n",
       "      <td>0</td>\n",
       "      <td>Cash loans</td>\n",
       "      <td>F</td>\n",
       "      <td>N</td>\n",
       "      <td>N</td>\n",
       "      <td>0</td>\n",
       "      <td>270000</td>\n",
       "      <td>1293502</td>\n",
       "      <td>35698</td>\n",
       "      <td>...</td>\n",
       "      <td>0</td>\n",
       "      <td>0</td>\n",
       "      <td>0</td>\n",
       "      <td>School</td>\n",
       "      <td>1</td>\n",
       "      <td>0</td>\n",
       "      <td>1</td>\n",
       "      <td>0</td>\n",
       "      <td>828</td>\n",
       "      <td>45</td>\n",
       "    </tr>\n",
       "    <tr>\n",
       "      <th>2</th>\n",
       "      <td>100004</td>\n",
       "      <td>0</td>\n",
       "      <td>Revolving loans</td>\n",
       "      <td>M</td>\n",
       "      <td>Y</td>\n",
       "      <td>Y</td>\n",
       "      <td>0</td>\n",
       "      <td>67500</td>\n",
       "      <td>135000</td>\n",
       "      <td>6750</td>\n",
       "      <td>...</td>\n",
       "      <td>0</td>\n",
       "      <td>0</td>\n",
       "      <td>0</td>\n",
       "      <td>Government</td>\n",
       "      <td>0</td>\n",
       "      <td>0</td>\n",
       "      <td>0</td>\n",
       "      <td>0</td>\n",
       "      <td>815</td>\n",
       "      <td>52</td>\n",
       "    </tr>\n",
       "  </tbody>\n",
       "</table>\n",
       "<p>2 rows × 35 columns</p>\n",
       "</div>"
      ],
      "text/plain": [
       "   SK_ID_CURR  TARGET NAME_CONTRACT_TYPE CODE_GENDER FLAG_OWN_CAR  \\\n",
       "1      100003       0         Cash loans           F            N   \n",
       "2      100004       0    Revolving loans           M            Y   \n",
       "\n",
       "  FLAG_OWN_REALTY  CNT_CHILDREN  AMT_INCOME_TOTAL  AMT_CREDIT  AMT_ANNUITY  \\\n",
       "1               N             0            270000     1293502        35698   \n",
       "2               Y             0             67500      135000         6750   \n",
       "\n",
       "   ...  REG_CITY_NOT_LIVE_CITY REG_CITY_NOT_WORK_CITY LIVE_CITY_NOT_WORK_CITY  \\\n",
       "1  ...                       0                      0                       0   \n",
       "2  ...                       0                      0                       0   \n",
       "\n",
       "  ORGANIZATION_TYPE OBS_30_CNT_SOCIAL_CIRCLE DEF_30_CNT_SOCIAL_CIRCLE  \\\n",
       "1            School                        1                        0   \n",
       "2        Government                        0                        0   \n",
       "\n",
       "   OBS_60_CNT_SOCIAL_CIRCLE  DEF_60_CNT_SOCIAL_CIRCLE  DAYS_LAST_PHONE_CHANGE  \\\n",
       "1                         1                         0                     828   \n",
       "2                         0                         0                     815   \n",
       "\n",
       "   years_birth  \n",
       "1           45  \n",
       "2           52  \n",
       "\n",
       "[2 rows x 35 columns]"
      ]
     },
     "execution_count": 342,
     "metadata": {},
     "output_type": "execute_result"
    }
   ],
   "source": [
    "tg0.head(2)"
   ]
  },
  {
   "cell_type": "code",
   "execution_count": 499,
   "metadata": {},
   "outputs": [
    {
     "data": {
      "image/png": "[encoded data removed]",
      "text/plain": [
       "<Figure size 720x216 with 1 Axes>"
      ]
     },
     "metadata": {
      "needs_background": "light"
     },
     "output_type": "display_data"
    },
    {
     "data": {
      "image/png": "[encoded data removed]",
      "text/plain": [
       "<Figure size 720x216 with 1 Axes>"
      ]
     },
     "metadata": {
      "needs_background": "light"
     },
     "output_type": "display_data"
    }
   ],
   "source": [
    "#boxplot for years_birth variables\n",
    "plt.figure(figsize=(10,3))\n",
    "plt.title('target value 1')\n",
    "sns.boxplot(tg1.years_birth)\n",
    "plt.show()\n",
    "plt.figure(figsize=(10,3))\n",
    "plt.title('target value 0')\n",
    "sns.boxplot(tg0.years_birth)\n",
    "plt.show()"
   ]
  },
  {
   "cell_type": "markdown",
   "metadata": {},
   "source": [
    "## when we plot a boxplot on age variable interestingly we find that people with age greater than 40 are safe for the banks to consider for the loans but people whos age is above 50 are most less likely to get defaulted, it is a bit of risk considering the analysis that people with age less than 40 are more likely to get defaulted or may face challenges in the return payments"
   ]
  },
  {
   "cell_type": "markdown",
   "metadata": {},
   "source": [
    "### performing the same operation like converting days to years as it may require in future analysis"
   ]
  },
  {
   "cell_type": "code",
   "execution_count": 347,
   "metadata": {},
   "outputs": [],
   "source": [
    "tg1['years_employed'] = tg1.DAYS_EMPLOYED.apply(lambda x: int(x/365))\n",
    "tg1['years_registration'] = tg1.DAYS_REGISTRATION.apply(lambda x: int(x/365))\n",
    "tg1['years_last_phone_change'] = tg1.DAYS_LAST_PHONE_CHANGE.apply(lambda x: int(x/365))"
   ]
  },
  {
   "cell_type": "code",
   "execution_count": 348,
   "metadata": {
    "collapsed": true
   },
   "outputs": [
    {
     "data": {
      "text/html": [
       "<div>\n",
       "<style scoped>\n",
       "    .dataframe tbody tr th:only-of-type {\n",
       "        vertical-align: middle;\n",
       "    }\n",
       "\n",
       "    .dataframe tbody tr th {\n",
       "        vertical-align: top;\n",
       "    }\n",
       "\n",
       "    .dataframe thead th {\n",
       "        text-align: right;\n",
       "    }\n",
       "</style>\n",
       "<table border=\"1\" class=\"dataframe\">\n",
       "  <thead>\n",
       "    <tr style=\"text-align: right;\">\n",
       "      <th></th>\n",
       "      <th>SK_ID_CURR</th>\n",
       "      <th>TARGET</th>\n",
       "      <th>NAME_CONTRACT_TYPE</th>\n",
       "      <th>CODE_GENDER</th>\n",
       "      <th>FLAG_OWN_CAR</th>\n",
       "      <th>FLAG_OWN_REALTY</th>\n",
       "      <th>CNT_CHILDREN</th>\n",
       "      <th>AMT_INCOME_TOTAL</th>\n",
       "      <th>AMT_CREDIT</th>\n",
       "      <th>AMT_ANNUITY</th>\n",
       "      <th>...</th>\n",
       "      <th>ORGANIZATION_TYPE</th>\n",
       "      <th>OBS_30_CNT_SOCIAL_CIRCLE</th>\n",
       "      <th>DEF_30_CNT_SOCIAL_CIRCLE</th>\n",
       "      <th>OBS_60_CNT_SOCIAL_CIRCLE</th>\n",
       "      <th>DEF_60_CNT_SOCIAL_CIRCLE</th>\n",
       "      <th>DAYS_LAST_PHONE_CHANGE</th>\n",
       "      <th>years_birth</th>\n",
       "      <th>years_employed</th>\n",
       "      <th>years_registration</th>\n",
       "      <th>years_last_phone_change</th>\n",
       "    </tr>\n",
       "  </thead>\n",
       "  <tbody>\n",
       "    <tr>\n",
       "      <th>0</th>\n",
       "      <td>100002</td>\n",
       "      <td>1</td>\n",
       "      <td>Cash loans</td>\n",
       "      <td>M</td>\n",
       "      <td>N</td>\n",
       "      <td>Y</td>\n",
       "      <td>0</td>\n",
       "      <td>202500</td>\n",
       "      <td>406598</td>\n",
       "      <td>24700</td>\n",
       "      <td>...</td>\n",
       "      <td>Business Entity Type 3</td>\n",
       "      <td>2</td>\n",
       "      <td>2</td>\n",
       "      <td>2</td>\n",
       "      <td>2</td>\n",
       "      <td>1134</td>\n",
       "      <td>25</td>\n",
       "      <td>1</td>\n",
       "      <td>9</td>\n",
       "      <td>3</td>\n",
       "    </tr>\n",
       "    <tr>\n",
       "      <th>26</th>\n",
       "      <td>100031</td>\n",
       "      <td>1</td>\n",
       "      <td>Cash loans</td>\n",
       "      <td>F</td>\n",
       "      <td>N</td>\n",
       "      <td>Y</td>\n",
       "      <td>0</td>\n",
       "      <td>112500</td>\n",
       "      <td>979992</td>\n",
       "      <td>27076</td>\n",
       "      <td>...</td>\n",
       "      <td>Business Entity Type 3</td>\n",
       "      <td>10</td>\n",
       "      <td>1</td>\n",
       "      <td>10</td>\n",
       "      <td>0</td>\n",
       "      <td>161</td>\n",
       "      <td>51</td>\n",
       "      <td>7</td>\n",
       "      <td>18</td>\n",
       "      <td>0</td>\n",
       "    </tr>\n",
       "  </tbody>\n",
       "</table>\n",
       "<p>2 rows × 38 columns</p>\n",
       "</div>"
      ],
      "text/plain": [
       "    SK_ID_CURR  TARGET NAME_CONTRACT_TYPE CODE_GENDER FLAG_OWN_CAR  \\\n",
       "0       100002       1         Cash loans           M            N   \n",
       "26      100031       1         Cash loans           F            N   \n",
       "\n",
       "   FLAG_OWN_REALTY  CNT_CHILDREN  AMT_INCOME_TOTAL  AMT_CREDIT  AMT_ANNUITY  \\\n",
       "0                Y             0            202500      406598        24700   \n",
       "26               Y             0            112500      979992        27076   \n",
       "\n",
       "    ...       ORGANIZATION_TYPE OBS_30_CNT_SOCIAL_CIRCLE  \\\n",
       "0   ...  Business Entity Type 3                        2   \n",
       "26  ...  Business Entity Type 3                       10   \n",
       "\n",
       "   DEF_30_CNT_SOCIAL_CIRCLE OBS_60_CNT_SOCIAL_CIRCLE DEF_60_CNT_SOCIAL_CIRCLE  \\\n",
       "0                         2                        2                        2   \n",
       "26                        1                       10                        0   \n",
       "\n",
       "   DAYS_LAST_PHONE_CHANGE  years_birth  years_employed  years_registration  \\\n",
       "0                    1134           25               1                   9   \n",
       "26                    161           51               7                  18   \n",
       "\n",
       "    years_last_phone_change  \n",
       "0                         3  \n",
       "26                        0  \n",
       "\n",
       "[2 rows x 38 columns]"
      ]
     },
     "execution_count": 348,
     "metadata": {},
     "output_type": "execute_result"
    }
   ],
   "source": [
    "tg1.head(2)"
   ]
  },
  {
   "cell_type": "code",
   "execution_count": 349,
   "metadata": {},
   "outputs": [],
   "source": [
    "tg0['years_employed'] = tg0.DAYS_EMPLOYED.apply(lambda x: int(x/365))\n",
    "tg0['years_registration'] = tg0.DAYS_REGISTRATION.apply(lambda x: int(x/365))\n",
    "tg0['years_last_phone_change'] = tg0.DAYS_LAST_PHONE_CHANGE.apply(lambda x: int(x/365))"
   ]
  },
  {
   "cell_type": "code",
   "execution_count": 350,
   "metadata": {
    "collapsed": true
   },
   "outputs": [
    {
     "data": {
      "text/html": [
       "<div>\n",
       "<style scoped>\n",
       "    .dataframe tbody tr th:only-of-type {\n",
       "        vertical-align: middle;\n",
       "    }\n",
       "\n",
       "    .dataframe tbody tr th {\n",
       "        vertical-align: top;\n",
       "    }\n",
       "\n",
       "    .dataframe thead th {\n",
       "        text-align: right;\n",
       "    }\n",
       "</style>\n",
       "<table border=\"1\" class=\"dataframe\">\n",
       "  <thead>\n",
       "    <tr style=\"text-align: right;\">\n",
       "      <th></th>\n",
       "      <th>SK_ID_CURR</th>\n",
       "      <th>TARGET</th>\n",
       "      <th>NAME_CONTRACT_TYPE</th>\n",
       "      <th>CODE_GENDER</th>\n",
       "      <th>FLAG_OWN_CAR</th>\n",
       "      <th>FLAG_OWN_REALTY</th>\n",
       "      <th>CNT_CHILDREN</th>\n",
       "      <th>AMT_INCOME_TOTAL</th>\n",
       "      <th>AMT_CREDIT</th>\n",
       "      <th>AMT_ANNUITY</th>\n",
       "      <th>...</th>\n",
       "      <th>ORGANIZATION_TYPE</th>\n",
       "      <th>OBS_30_CNT_SOCIAL_CIRCLE</th>\n",
       "      <th>DEF_30_CNT_SOCIAL_CIRCLE</th>\n",
       "      <th>OBS_60_CNT_SOCIAL_CIRCLE</th>\n",
       "      <th>DEF_60_CNT_SOCIAL_CIRCLE</th>\n",
       "      <th>DAYS_LAST_PHONE_CHANGE</th>\n",
       "      <th>years_birth</th>\n",
       "      <th>years_employed</th>\n",
       "      <th>years_registration</th>\n",
       "      <th>years_last_phone_change</th>\n",
       "    </tr>\n",
       "  </thead>\n",
       "  <tbody>\n",
       "    <tr>\n",
       "      <th>1</th>\n",
       "      <td>100003</td>\n",
       "      <td>0</td>\n",
       "      <td>Cash loans</td>\n",
       "      <td>F</td>\n",
       "      <td>N</td>\n",
       "      <td>N</td>\n",
       "      <td>0</td>\n",
       "      <td>270000</td>\n",
       "      <td>1293502</td>\n",
       "      <td>35698</td>\n",
       "      <td>...</td>\n",
       "      <td>School</td>\n",
       "      <td>1</td>\n",
       "      <td>0</td>\n",
       "      <td>1</td>\n",
       "      <td>0</td>\n",
       "      <td>828</td>\n",
       "      <td>45</td>\n",
       "      <td>3</td>\n",
       "      <td>3</td>\n",
       "      <td>2</td>\n",
       "    </tr>\n",
       "    <tr>\n",
       "      <th>2</th>\n",
       "      <td>100004</td>\n",
       "      <td>0</td>\n",
       "      <td>Revolving loans</td>\n",
       "      <td>M</td>\n",
       "      <td>Y</td>\n",
       "      <td>Y</td>\n",
       "      <td>0</td>\n",
       "      <td>67500</td>\n",
       "      <td>135000</td>\n",
       "      <td>6750</td>\n",
       "      <td>...</td>\n",
       "      <td>Government</td>\n",
       "      <td>0</td>\n",
       "      <td>0</td>\n",
       "      <td>0</td>\n",
       "      <td>0</td>\n",
       "      <td>815</td>\n",
       "      <td>52</td>\n",
       "      <td>0</td>\n",
       "      <td>11</td>\n",
       "      <td>2</td>\n",
       "    </tr>\n",
       "  </tbody>\n",
       "</table>\n",
       "<p>2 rows × 38 columns</p>\n",
       "</div>"
      ],
      "text/plain": [
       "   SK_ID_CURR  TARGET NAME_CONTRACT_TYPE CODE_GENDER FLAG_OWN_CAR  \\\n",
       "1      100003       0         Cash loans           F            N   \n",
       "2      100004       0    Revolving loans           M            Y   \n",
       "\n",
       "  FLAG_OWN_REALTY  CNT_CHILDREN  AMT_INCOME_TOTAL  AMT_CREDIT  AMT_ANNUITY  \\\n",
       "1               N             0            270000     1293502        35698   \n",
       "2               Y             0             67500      135000         6750   \n",
       "\n",
       "   ...  ORGANIZATION_TYPE OBS_30_CNT_SOCIAL_CIRCLE DEF_30_CNT_SOCIAL_CIRCLE  \\\n",
       "1  ...             School                        1                        0   \n",
       "2  ...         Government                        0                        0   \n",
       "\n",
       "  OBS_60_CNT_SOCIAL_CIRCLE DEF_60_CNT_SOCIAL_CIRCLE DAYS_LAST_PHONE_CHANGE  \\\n",
       "1                        1                        0                    828   \n",
       "2                        0                        0                    815   \n",
       "\n",
       "   years_birth  years_employed  years_registration  years_last_phone_change  \n",
       "1           45               3                   3                        2  \n",
       "2           52               0                  11                        2  \n",
       "\n",
       "[2 rows x 38 columns]"
      ]
     },
     "execution_count": 350,
     "metadata": {},
     "output_type": "execute_result"
    }
   ],
   "source": [
    "tg0.head(2)"
   ]
  },
  {
   "cell_type": "code",
   "execution_count": 355,
   "metadata": {
    "collapsed": true
   },
   "outputs": [
    {
     "data": {
      "image/png": "[encoded data removed]",
      "text/plain": [
       "<Figure size 720x360 with 1 Axes>"
      ]
     },
     "metadata": {
      "needs_background": "light"
     },
     "output_type": "display_data"
    },
    {
     "data": {
      "image/png": "[encoded data removed]",
      "text/plain": [
       "<Figure size 720x360 with 1 Axes>"
      ]
     },
     "metadata": {
      "needs_background": "light"
     },
     "output_type": "display_data"
    }
   ],
   "source": [
    "plt.figure(figsize=(10,5))\n",
    "sns.boxplot(tg1.years_employed)\n",
    "plt.show()\n",
    "plt.figure(figsize=(10,5))\n",
    "sns.boxplot(tg0.years_employed)\n",
    "plt.show()"
   ]
  },
  {
   "cell_type": "markdown",
   "metadata": {},
   "source": [
    "### it is unlike to have experience more than 100 and the data has clear outliers so trying to exclude them and perform analysis"
   ]
  },
  {
   "cell_type": "code",
   "execution_count": 352,
   "metadata": {},
   "outputs": [
    {
     "data": {
      "text/plain": [
       "0.50       3.0\n",
       "0.70       7.0\n",
       "0.90    1000.0\n",
       "0.95    1000.0\n",
       "0.99    1000.0\n",
       "Name: years_employed, dtype: float64"
      ]
     },
     "execution_count": 352,
     "metadata": {},
     "output_type": "execute_result"
    }
   ],
   "source": [
    "tg1.years_employed.quantile([0.5,0.7,0.9,0.95,0.99])"
   ]
  },
  {
   "cell_type": "code",
   "execution_count": 353,
   "metadata": {
    "collapsed": true
   },
   "outputs": [
    {
     "data": {
      "text/plain": [
       "1       3612\n",
       "2       3160\n",
       "0       3055\n",
       "1000    2974\n",
       "3       2538\n",
       "4       1973\n",
       "5       1324\n",
       "6       1151\n",
       "7        954\n",
       "8        780\n",
       "9        565\n",
       "10       467\n",
       "11       331\n",
       "12       289\n",
       "14       256\n",
       "13       243\n",
       "15       134\n",
       "16       114\n",
       "17        95\n",
       "18        92\n",
       "19        88\n",
       "21        74\n",
       "20        66\n",
       "22        55\n",
       "23        51\n",
       "24        49\n",
       "25        40\n",
       "28        31\n",
       "29        28\n",
       "30        22\n",
       "32        19\n",
       "26        18\n",
       "31        15\n",
       "27        15\n",
       "34        12\n",
       "33        12\n",
       "35         6\n",
       "39         4\n",
       "36         3\n",
       "38         2\n",
       "37         1\n",
       "44         1\n",
       "Name: years_employed, dtype: int64"
      ]
     },
     "execution_count": 353,
     "metadata": {},
     "output_type": "execute_result"
    }
   ],
   "source": [
    "tg1.years_employed.value_counts()"
   ]
  },
  {
   "cell_type": "markdown",
   "metadata": {},
   "source": [
    "### as it clearly shows there are outliers which are beyond the average human life span considering as we are not treating outliers excluding only the data were experience is less than 100 which is quite unlike to have more than that."
   ]
  },
  {
   "cell_type": "code",
   "execution_count": 356,
   "metadata": {},
   "outputs": [],
   "source": [
    "tg1_employee = tg1[tg1['years_employed']<100]"
   ]
  },
  {
   "cell_type": "code",
   "execution_count": 359,
   "metadata": {},
   "outputs": [],
   "source": [
    "tg0_employee = tg0[tg0['years_employed']<100]"
   ]
  },
  {
   "cell_type": "code",
   "execution_count": 360,
   "metadata": {
    "collapsed": true
   },
   "outputs": [
    {
     "data": {
      "image/png": "[encoded data removed]",
      "text/plain": [
       "<Figure size 720x360 with 1 Axes>"
      ]
     },
     "metadata": {
      "needs_background": "light"
     },
     "output_type": "display_data"
    },
    {
     "data": {
      "image/png": "[encoded data removed]",
      "text/plain": [
       "<Figure size 720x360 with 1 Axes>"
      ]
     },
     "metadata": {
      "needs_background": "light"
     },
     "output_type": "display_data"
    }
   ],
   "source": [
    "plt.figure(figsize=(10,5))\n",
    "sns.boxplot(tg1_employee.years_employed)\n",
    "plt.show()\n",
    "plt.figure(figsize=(10,5))\n",
    "sns.boxplot(tg0_employee.years_employed)\n",
    "plt.show()"
   ]
  },
  {
   "cell_type": "markdown",
   "metadata": {},
   "source": [
    "### there is not much analogy to conclude on any inferences with respect to employee exoerience as the data shows its useless but as to show the approach we did in excluding the ouliers and performed out analogy wanted to put this up in the queue."
   ]
  },
  {
   "cell_type": "code",
   "execution_count": 500,
   "metadata": {},
   "outputs": [
    {
     "data": {
      "image/png": "[encoded data removed]",
      "text/plain": [
       "<Figure size 720x216 with 1 Axes>"
      ]
     },
     "metadata": {
      "needs_background": "light"
     },
     "output_type": "display_data"
    },
    {
     "data": {
      "image/png": "[encoded data removed]",
      "text/plain": [
       "<Figure size 720x216 with 1 Axes>"
      ]
     },
     "metadata": {
      "needs_background": "light"
     },
     "output_type": "display_data"
    }
   ],
   "source": [
    "#boxplot for years_last_phone_change variables\n",
    "plt.figure(figsize=(10,3))\n",
    "plt.title('target value 1')\n",
    "sns.boxplot(tg1.years_last_phone_change)\n",
    "plt.show()\n",
    "plt.figure(figsize=(10,3))\n",
    "plt.title('target value 0')\n",
    "sns.boxplot(tg0.years_last_phone_change)\n",
    "plt.show()"
   ]
  },
  {
   "cell_type": "markdown",
   "metadata": {},
   "source": [
    "#### we can conclude from the above plot that people who changing their phone with in one year are most likely to get defaulted but the data suggests us to conclude on that. and people who havent changed their phone for the past 4 years are more likely to pay their dues on time."
   ]
  },
  {
   "cell_type": "markdown",
   "metadata": {},
   "source": [
    "# BIAVRIATE ANALYSIS\n",
    "### continous - continous"
   ]
  },
  {
   "cell_type": "markdown",
   "metadata": {},
   "source": [
    "#### scatter plot on AMT_CREDIT & AMT_ANNUITY"
   ]
  },
  {
   "cell_type": "code",
   "execution_count": 367,
   "metadata": {
    "collapsed": true
   },
   "outputs": [
    {
     "data": {
      "text/plain": [
       "<matplotlib.collections.PathCollection at 0x1d417031700>"
      ]
     },
     "execution_count": 367,
     "metadata": {},
     "output_type": "execute_result"
    },
    {
     "data": {
      "image/png": "[encoded data removed]",
      "text/plain": [
       "<Figure size 720x360 with 2 Axes>"
      ]
     },
     "metadata": {
      "needs_background": "light"
     },
     "output_type": "display_data"
    }
   ],
   "source": [
    "# scatter plot on AMT_CREDIT & AMT_ANNUITY\n",
    "plt.figure(figsize=(10,5))\n",
    "plt.subplot(1,2,1)\n",
    "plt.title('target is 1')\n",
    "plt.scatter(tg1['AMT_CREDIT'],tg1['AMT_ANNUITY'])\n",
    "plt.subplot(1,2,2)\n",
    "plt.title('target is 0')\n",
    "plt.scatter(tg0['AMT_CREDIT'],tg0['AMT_ANNUITY'])"
   ]
  },
  {
   "cell_type": "markdown",
   "metadata": {},
   "source": [
    "### we could not find any inferences on conitinous - continous bivariate analysis for df1"
   ]
  },
  {
   "cell_type": "markdown",
   "metadata": {},
   "source": [
    "# continous - categorical"
   ]
  },
  {
   "cell_type": "code",
   "execution_count": 399,
   "metadata": {
    "collapsed": true
   },
   "outputs": [
    {
     "data": {
      "image/png": "[encoded data removed]",
      "text/plain": [
       "<Figure size 720x360 with 1 Axes>"
      ]
     },
     "metadata": {
      "needs_background": "light"
     },
     "output_type": "display_data"
    },
    {
     "data": {
      "image/png": "[encoded data removed]",
      "text/plain": [
       "<Figure size 720x360 with 1 Axes>"
      ]
     },
     "metadata": {
      "needs_background": "light"
     },
     "output_type": "display_data"
    }
   ],
   "source": [
    "plt.figure(figsize=(10,5))\n",
    "plt.subplot(1,2,1)\n",
    "plt.title('target is 1')\n",
    "sns.boxplot(data=tg1,x='NAME_CONTRACT_TYPE',y='AMT_ANNUITY')\n",
    "plt.show()\n",
    "plt.figure(figsize=(10,5))\n",
    "plt.subplot(1,2,2)\n",
    "plt.title('target is 0')\n",
    "sns.boxplot(data=tg0,x='NAME_CONTRACT_TYPE',y='AMT_ANNUITY')\n",
    "plt.show()"
   ]
  },
  {
   "cell_type": "code",
   "execution_count": 493,
   "metadata": {
    "collapsed": true
   },
   "outputs": [
    {
     "data": {
      "image/png": "[encoded data removed]",
      "text/plain": [
       "<Figure size 2160x360 with 1 Axes>"
      ]
     },
     "metadata": {
      "needs_background": "light"
     },
     "output_type": "display_data"
    },
    {
     "data": {
      "image/png": "[encoded data removed]",
      "text/plain": [
       "<Figure size 2160x360 with 1 Axes>"
      ]
     },
     "metadata": {
      "needs_background": "light"
     },
     "output_type": "display_data"
    }
   ],
   "source": [
    "plt.figure(figsize=(30,5))\n",
    "plt.subplot(1,2,1)\n",
    "plt.title('target is 1')\n",
    "sns.boxplot(data=tg1,x='NAME_TYPE_SUITE',y='AMT_ANNUITY')\n",
    "plt.show()\n",
    "plt.figure(figsize=(30,5))\n",
    "plt.subplot(1,2,2)\n",
    "plt.title('target is 0')\n",
    "sns.boxplot(data=tg0,x='NAME_TYPE_SUITE',y='AMT_ANNUITY')\n",
    "plt.show()"
   ]
  },
  {
   "cell_type": "code",
   "execution_count": 501,
   "metadata": {},
   "outputs": [
    {
     "data": {
      "image/png": "[encoded data removed]",
      "text/plain": [
       "<Figure size 1440x216 with 1 Axes>"
      ]
     },
     "metadata": {
      "needs_background": "light"
     },
     "output_type": "display_data"
    },
    {
     "data": {
      "image/png": "[encoded data removed]",
      "text/plain": [
       "<Figure size 2160x216 with 1 Axes>"
      ]
     },
     "metadata": {
      "needs_background": "light"
     },
     "output_type": "display_data"
    }
   ],
   "source": [
    "plt.figure(figsize=(20,3))\n",
    "plt.subplot(1,2,1)\n",
    "plt.title('target is 1')\n",
    "sns.boxplot(data=tg1,x='NAME_INCOME_TYPE',y='AMT_ANNUITY')\n",
    "plt.show()\n",
    "plt.figure(figsize=(30,3))\n",
    "plt.subplot(1,2,2)\n",
    "plt.title('target is 0')\n",
    "sns.boxplot(data=tg0,x='NAME_INCOME_TYPE',y='AMT_ANNUITY')\n",
    "plt.show()"
   ]
  },
  {
   "cell_type": "markdown",
   "metadata": {},
   "source": [
    "## data suggests that people who are doing business and those who are studying are the ones were we dont have any defaulters. "
   ]
  },
  {
   "cell_type": "code",
   "execution_count": 502,
   "metadata": {},
   "outputs": [
    {
     "data": {
      "image/png": "[encoded data removed]",
      "text/plain": [
       "<Figure size 2160x216 with 1 Axes>"
      ]
     },
     "metadata": {
      "needs_background": "light"
     },
     "output_type": "display_data"
    },
    {
     "data": {
      "image/png": "[encoded data removed]",
      "text/plain": [
       "<Figure size 2160x216 with 1 Axes>"
      ]
     },
     "metadata": {
      "needs_background": "light"
     },
     "output_type": "display_data"
    }
   ],
   "source": [
    "plt.figure(figsize=(30,3))\n",
    "plt.subplot(1,2,1)\n",
    "plt.title('target is 1')\n",
    "sns.boxplot(data=tg1,x='NAME_EDUCATION_TYPE',y='AMT_ANNUITY')\n",
    "plt.show()\n",
    "plt.figure(figsize=(30,3))\n",
    "plt.subplot(1,2,2)\n",
    "plt.title('target is 0')\n",
    "sns.boxplot(data=tg0,x='NAME_EDUCATION_TYPE',y='AMT_ANNUITY')\n",
    "plt.show()"
   ]
  },
  {
   "cell_type": "markdown",
   "metadata": {},
   "source": [
    "### people who has higher education and whos annuity is more than 60,000 are likely to get defaulted and also mentioned in the previous analysis that higer educated people are most likelt to face the challenges in payment here in that higher educated people with high annuity are likely to get defaultered."
   ]
  },
  {
   "cell_type": "code",
   "execution_count": 410,
   "metadata": {
    "collapsed": true
   },
   "outputs": [
    {
     "data": {
      "image/png": "[encoded data removed]",
      "text/plain": [
       "<Figure size 2160x360 with 1 Axes>"
      ]
     },
     "metadata": {
      "needs_background": "light"
     },
     "output_type": "display_data"
    },
    {
     "data": {
      "image/png": "[encoded data removed]",
      "text/plain": [
       "<Figure size 2160x360 with 1 Axes>"
      ]
     },
     "metadata": {
      "needs_background": "light"
     },
     "output_type": "display_data"
    }
   ],
   "source": [
    "plt.figure(figsize=(30,5))\n",
    "plt.subplot(1,2,1)\n",
    "plt.title('target is 1')\n",
    "sns.boxplot(data=tg1,x='NAME_FAMILY_STATUS',y='AMT_ANNUITY')\n",
    "plt.show()\n",
    "plt.figure(figsize=(30,5))\n",
    "plt.subplot(1,2,2)\n",
    "plt.title('target is 0')\n",
    "sns.boxplot(data=tg0,x='NAME_FAMILY_STATUS',y='AMT_ANNUITY')\n",
    "plt.show()"
   ]
  },
  {
   "cell_type": "code",
   "execution_count": 431,
   "metadata": {
    "collapsed": true
   },
   "outputs": [
    {
     "data": {
      "image/png": "[encoded data removed]",
      "text/plain": [
       "<Figure size 2160x360 with 1 Axes>"
      ]
     },
     "metadata": {
      "needs_background": "light"
     },
     "output_type": "display_data"
    },
    {
     "data": {
      "image/png": "[encoded data removed]",
      "text/plain": [
       "<Figure size 2160x360 with 1 Axes>"
      ]
     },
     "metadata": {
      "needs_background": "light"
     },
     "output_type": "display_data"
    }
   ],
   "source": [
    "plt.figure(figsize=(30,5))\n",
    "plt.subplot(1,2,1)\n",
    "plt.title('target is 1')\n",
    "sns.boxplot(data=tg1,x='NAME_HOUSING_TYPE',y='AMT_GOODS_PRICE')\n",
    "plt.show()\n",
    "plt.figure(figsize=(30,5))\n",
    "plt.subplot(1,2,2)\n",
    "plt.title('target is 0')\n",
    "sns.boxplot(data=tg0,x='NAME_HOUSING_TYPE',y='AMT_GOODS_PRICE')\n",
    "plt.show()"
   ]
  },
  {
   "cell_type": "code",
   "execution_count": 435,
   "metadata": {},
   "outputs": [],
   "source": [
    "tg1['age_group'] = pd.cut(tg1.years_birth,[0,30,40,50,60,9999],labels=['<30','30-40','40-50','50-60','60+'])"
   ]
  },
  {
   "cell_type": "code",
   "execution_count": 436,
   "metadata": {},
   "outputs": [
    {
     "data": {
      "text/plain": [
       "30-40    7695\n",
       "<30      5988\n",
       "40-50    5593\n",
       "50-60    4005\n",
       "60+      1438\n",
       "Name: age_group, dtype: int64"
      ]
     },
     "execution_count": 436,
     "metadata": {},
     "output_type": "execute_result"
    }
   ],
   "source": [
    "tg1.age_group.value_counts()"
   ]
  },
  {
   "cell_type": "code",
   "execution_count": null,
   "metadata": {},
   "outputs": [],
   "source": [
    "years_birth"
   ]
  },
  {
   "cell_type": "code",
   "execution_count": 437,
   "metadata": {},
   "outputs": [],
   "source": [
    "tg0['age_group'] = pd.cut(tg0.years_birth,[0,30,40,50,60,9999],labels=['<30','30-40','40-50','50-60','60+'])"
   ]
  },
  {
   "cell_type": "code",
   "execution_count": 438,
   "metadata": {},
   "outputs": [
    {
     "data": {
      "text/plain": [
       "30-40    74787\n",
       "40-50    68303\n",
       "50-60    63369\n",
       "<30      46280\n",
       "60+      27727\n",
       "Name: age_group, dtype: int64"
      ]
     },
     "execution_count": 438,
     "metadata": {},
     "output_type": "execute_result"
    }
   ],
   "source": [
    "tg0.age_group.value_counts()"
   ]
  },
  {
   "cell_type": "code",
   "execution_count": 439,
   "metadata": {
    "collapsed": true
   },
   "outputs": [
    {
     "data": {
      "image/png": "[encoded data removed]",
      "text/plain": [
       "<Figure size 2160x360 with 1 Axes>"
      ]
     },
     "metadata": {
      "needs_background": "light"
     },
     "output_type": "display_data"
    },
    {
     "data": {
      "image/png": "[encoded data removed]",
      "text/plain": [
       "<Figure size 2160x360 with 1 Axes>"
      ]
     },
     "metadata": {
      "needs_background": "light"
     },
     "output_type": "display_data"
    }
   ],
   "source": [
    "plt.figure(figsize=(30,5))\n",
    "plt.subplot(1,2,1)\n",
    "plt.title('target is 1')\n",
    "sns.boxplot(data=tg1,x='age_group',y='AMT_CREDIT')\n",
    "plt.show()\n",
    "plt.figure(figsize=(30,5))\n",
    "plt.subplot(1,2,2)\n",
    "plt.title('target is 0')\n",
    "sns.boxplot(data=tg0,x='age_group',y='AMT_CREDIT')\n",
    "plt.show()"
   ]
  },
  {
   "cell_type": "code",
   "execution_count": 441,
   "metadata": {
    "collapsed": true
   },
   "outputs": [
    {
     "data": {
      "image/png": "[encoded data removed]",
      "text/plain": [
       "<Figure size 2160x360 with 1 Axes>"
      ]
     },
     "metadata": {
      "needs_background": "light"
     },
     "output_type": "display_data"
    },
    {
     "data": {
      "image/png": "[encoded data removed]",
      "text/plain": [
       "<Figure size 2160x360 with 1 Axes>"
      ]
     },
     "metadata": {
      "needs_background": "light"
     },
     "output_type": "display_data"
    }
   ],
   "source": [
    "plt.figure(figsize=(30,5))\n",
    "plt.subplot(1,2,1)\n",
    "plt.title('target is 1')\n",
    "sns.boxplot(data=tg1,x='age_group',y='AMT_GOODS_PRICE')\n",
    "plt.show()\n",
    "plt.figure(figsize=(30,5))\n",
    "plt.subplot(1,2,2)\n",
    "plt.title('target is 0')\n",
    "sns.boxplot(data=tg0,x='age_group',y='AMT_GOODS_PRICE')\n",
    "plt.show()"
   ]
  },
  {
   "cell_type": "code",
   "execution_count": 444,
   "metadata": {},
   "outputs": [],
   "source": [
    "tg0['registration_group'] = pd.cut(tg0.years_registration,[0,30,40,50,60,9999],labels=['<30','30-40','40-50','50-60','60+'])"
   ]
  },
  {
   "cell_type": "code",
   "execution_count": 445,
   "metadata": {},
   "outputs": [],
   "source": [
    "tg1['registration_group'] = pd.cut(tg1.years_registration,[0,30,40,50,60,9999],labels=['<30','30-40','40-50','50-60','60+'])"
   ]
  },
  {
   "cell_type": "code",
   "execution_count": 447,
   "metadata": {
    "collapsed": true
   },
   "outputs": [
    {
     "data": {
      "image/png": "[encoded data removed]",
      "text/plain": [
       "<Figure size 2160x360 with 1 Axes>"
      ]
     },
     "metadata": {
      "needs_background": "light"
     },
     "output_type": "display_data"
    },
    {
     "data": {
      "image/png": "[encoded data removed]",
      "text/plain": [
       "<Figure size 2160x360 with 1 Axes>"
      ]
     },
     "metadata": {
      "needs_background": "light"
     },
     "output_type": "display_data"
    }
   ],
   "source": [
    "plt.figure(figsize=(30,5))\n",
    "plt.subplot(1,2,1)\n",
    "plt.title('target is 1')\n",
    "sns.boxplot(data=tg1,x='registration_group',y='AMT_CREDIT')\n",
    "plt.show()\n",
    "plt.figure(figsize=(30,5))\n",
    "plt.subplot(1,2,2)\n",
    "plt.title('target is 0')\n",
    "sns.boxplot(data=tg0,x='registration_group',y='AMT_CREDIT')\n",
    "plt.show()"
   ]
  },
  {
   "cell_type": "code",
   "execution_count": null,
   "metadata": {},
   "outputs": [],
   "source": []
  },
  {
   "cell_type": "code",
   "execution_count": 449,
   "metadata": {
    "collapsed": true
   },
   "outputs": [
    {
     "data": {
      "image/png": "[encoded data removed]",
      "text/plain": [
       "<Figure size 2160x360 with 1 Axes>"
      ]
     },
     "metadata": {
      "needs_background": "light"
     },
     "output_type": "display_data"
    },
    {
     "data": {
      "image/png": "[encoded data removed]",
      "text/plain": [
       "<Figure size 2160x360 with 1 Axes>"
      ]
     },
     "metadata": {
      "needs_background": "light"
     },
     "output_type": "display_data"
    }
   ],
   "source": [
    "plt.figure(figsize=(30,5))\n",
    "plt.subplot(1,2,1)\n",
    "plt.title('target is 1')\n",
    "sns.boxplot(data=tg1,x='NAME_CONTRACT_TYPE',y='AMT_GOODS_PRICE')\n",
    "plt.show()\n",
    "plt.figure(figsize=(30,5))\n",
    "plt.subplot(1,2,2)\n",
    "plt.title('target is 0')\n",
    "sns.boxplot(data=tg0,x='NAME_CONTRACT_TYPE',y='AMT_GOODS_PRICE')\n",
    "plt.show()"
   ]
  },
  {
   "cell_type": "code",
   "execution_count": 464,
   "metadata": {
    "collapsed": true
   },
   "outputs": [
    {
     "data": {
      "text/html": [
       "<div>\n",
       "<style scoped>\n",
       "    .dataframe tbody tr th:only-of-type {\n",
       "        vertical-align: middle;\n",
       "    }\n",
       "\n",
       "    .dataframe tbody tr th {\n",
       "        vertical-align: top;\n",
       "    }\n",
       "\n",
       "    .dataframe thead th {\n",
       "        text-align: right;\n",
       "    }\n",
       "</style>\n",
       "<table border=\"1\" class=\"dataframe\">\n",
       "  <thead>\n",
       "    <tr style=\"text-align: right;\">\n",
       "      <th></th>\n",
       "      <th>SK_ID_CURR</th>\n",
       "      <th>TARGET</th>\n",
       "      <th>NAME_CONTRACT_TYPE</th>\n",
       "      <th>CODE_GENDER</th>\n",
       "      <th>FLAG_OWN_CAR</th>\n",
       "      <th>FLAG_OWN_REALTY</th>\n",
       "      <th>CNT_CHILDREN</th>\n",
       "      <th>AMT_INCOME_TOTAL</th>\n",
       "      <th>AMT_CREDIT</th>\n",
       "      <th>AMT_ANNUITY</th>\n",
       "      <th>...</th>\n",
       "      <th>DAYS_LAST_PHONE_CHANGE</th>\n",
       "      <th>years_birth</th>\n",
       "      <th>years_employed</th>\n",
       "      <th>years_registration</th>\n",
       "      <th>years_last_phone_change</th>\n",
       "      <th>gender_flag</th>\n",
       "      <th>car_flag</th>\n",
       "      <th>realty_flag</th>\n",
       "      <th>age_group</th>\n",
       "      <th>registration_group</th>\n",
       "    </tr>\n",
       "  </thead>\n",
       "  <tbody>\n",
       "    <tr>\n",
       "      <th>0</th>\n",
       "      <td>100002</td>\n",
       "      <td>1</td>\n",
       "      <td>Cash loans</td>\n",
       "      <td>M</td>\n",
       "      <td>N</td>\n",
       "      <td>Y</td>\n",
       "      <td>0</td>\n",
       "      <td>202500</td>\n",
       "      <td>406598</td>\n",
       "      <td>24700</td>\n",
       "      <td>...</td>\n",
       "      <td>1134</td>\n",
       "      <td>25</td>\n",
       "      <td>1</td>\n",
       "      <td>9</td>\n",
       "      <td>3</td>\n",
       "      <td>1</td>\n",
       "      <td>0</td>\n",
       "      <td>1</td>\n",
       "      <td>&lt;30</td>\n",
       "      <td>&lt;30</td>\n",
       "    </tr>\n",
       "    <tr>\n",
       "      <th>26</th>\n",
       "      <td>100031</td>\n",
       "      <td>1</td>\n",
       "      <td>Cash loans</td>\n",
       "      <td>F</td>\n",
       "      <td>N</td>\n",
       "      <td>Y</td>\n",
       "      <td>0</td>\n",
       "      <td>112500</td>\n",
       "      <td>979992</td>\n",
       "      <td>27076</td>\n",
       "      <td>...</td>\n",
       "      <td>161</td>\n",
       "      <td>51</td>\n",
       "      <td>7</td>\n",
       "      <td>18</td>\n",
       "      <td>0</td>\n",
       "      <td>0</td>\n",
       "      <td>0</td>\n",
       "      <td>1</td>\n",
       "      <td>50-60</td>\n",
       "      <td>&lt;30</td>\n",
       "    </tr>\n",
       "  </tbody>\n",
       "</table>\n",
       "<p>2 rows × 43 columns</p>\n",
       "</div>"
      ],
      "text/plain": [
       "    SK_ID_CURR  TARGET NAME_CONTRACT_TYPE CODE_GENDER FLAG_OWN_CAR  \\\n",
       "0       100002       1         Cash loans           M            N   \n",
       "26      100031       1         Cash loans           F            N   \n",
       "\n",
       "   FLAG_OWN_REALTY  CNT_CHILDREN  AMT_INCOME_TOTAL  AMT_CREDIT  AMT_ANNUITY  \\\n",
       "0                Y             0            202500      406598        24700   \n",
       "26               Y             0            112500      979992        27076   \n",
       "\n",
       "    ...  DAYS_LAST_PHONE_CHANGE years_birth years_employed years_registration  \\\n",
       "0   ...                    1134          25              1                  9   \n",
       "26  ...                     161          51              7                 18   \n",
       "\n",
       "   years_last_phone_change gender_flag  car_flag  realty_flag  age_group  \\\n",
       "0                        3           1         0            1        <30   \n",
       "26                       0           0         0            1      50-60   \n",
       "\n",
       "    registration_group  \n",
       "0                  <30  \n",
       "26                 <30  \n",
       "\n",
       "[2 rows x 43 columns]"
      ]
     },
     "execution_count": 464,
     "metadata": {},
     "output_type": "execute_result"
    }
   ],
   "source": [
    "tg1.head(2)"
   ]
  },
  {
   "cell_type": "markdown",
   "metadata": {},
   "source": [
    "# analysis on previous data set\n",
    "## bivariate analysis"
   ]
  },
  {
   "cell_type": "code",
   "execution_count": 462,
   "metadata": {},
   "outputs": [],
   "source": [
    "#df0.groupby('NAME_CONTRACT_STATUS')['AMT_APPLICATION'].plot.boxplot()\n",
    "#plt.show()"
   ]
  },
  {
   "cell_type": "code",
   "execution_count": null,
   "metadata": {},
   "outputs": [],
   "source": []
  },
  {
   "cell_type": "code",
   "execution_count": 459,
   "metadata": {},
   "outputs": [
    {
     "data": {
      "text/plain": [
       "Repeater     1231261\n",
       "New           301363\n",
       "Refreshed     135649\n",
       "XNA             1941\n",
       "Name: NAME_CLIENT_TYPE, dtype: int64"
      ]
     },
     "execution_count": 459,
     "metadata": {},
     "output_type": "execute_result"
    }
   ],
   "source": [
    "df0.NAME_CLIENT_TYPE.value_counts()"
   ]
  },
  {
   "cell_type": "code",
   "execution_count": 460,
   "metadata": {},
   "outputs": [
    {
     "data": {
      "text/plain": [
       "Approved        1036781\n",
       "Canceled         316319\n",
       "Refused          290678\n",
       "Unused offer      26436\n",
       "Name: NAME_CONTRACT_STATUS, dtype: int64"
      ]
     },
     "execution_count": 460,
     "metadata": {},
     "output_type": "execute_result"
    }
   ],
   "source": [
    "df0.NAME_CONTRACT_STATUS.value_counts()"
   ]
  },
  {
   "cell_type": "code",
   "execution_count": null,
   "metadata": {},
   "outputs": [],
   "source": []
  },
  {
   "cell_type": "code",
   "execution_count": null,
   "metadata": {},
   "outputs": [],
   "source": []
  },
  {
   "cell_type": "code",
   "execution_count": 450,
   "metadata": {},
   "outputs": [
    {
     "name": "stdout",
     "output_type": "stream",
     "text": [
      "<class 'pandas.core.frame.DataFrame'>\n",
      "RangeIndex: 1670214 entries, 0 to 1670213\n",
      "Data columns (total 26 columns):\n",
      " #   Column                       Non-Null Count    Dtype  \n",
      "---  ------                       --------------    -----  \n",
      " 0   SK_ID_PREV                   1670214 non-null  int64  \n",
      " 1   SK_ID_CURR                   1670214 non-null  int64  \n",
      " 2   NAME_CONTRACT_TYPE           1670214 non-null  object \n",
      " 3   AMT_ANNUITY                  1670214 non-null  float64\n",
      " 4   AMT_APPLICATION              1670214 non-null  float64\n",
      " 5   AMT_CREDIT                   1670214 non-null  float64\n",
      " 6   AMT_GOODS_PRICE              1670214 non-null  float64\n",
      " 7   WEEKDAY_APPR_PROCESS_START   1670214 non-null  object \n",
      " 8   HOUR_APPR_PROCESS_START      1670214 non-null  int64  \n",
      " 9   FLAG_LAST_APPL_PER_CONTRACT  1670214 non-null  object \n",
      " 10  NFLAG_LAST_APPL_IN_DAY       1670214 non-null  int64  \n",
      " 11  NAME_CASH_LOAN_PURPOSE       1670214 non-null  object \n",
      " 12  NAME_CONTRACT_STATUS         1670214 non-null  object \n",
      " 13  DAYS_DECISION                1670214 non-null  int64  \n",
      " 14  NAME_PAYMENT_TYPE            1670214 non-null  object \n",
      " 15  CODE_REJECT_REASON           1670214 non-null  object \n",
      " 16  NAME_CLIENT_TYPE             1670214 non-null  object \n",
      " 17  NAME_GOODS_CATEGORY          1670214 non-null  object \n",
      " 18  NAME_PORTFOLIO               1670214 non-null  object \n",
      " 19  NAME_PRODUCT_TYPE            1670214 non-null  object \n",
      " 20  CHANNEL_TYPE                 1670214 non-null  object \n",
      " 21  SELLERPLACE_AREA             907539 non-null   float64\n",
      " 22  NAME_SELLER_INDUSTRY         1670214 non-null  object \n",
      " 23  CNT_PAYMENT                  1670214 non-null  float64\n",
      " 24  NAME_YIELD_GROUP             1670214 non-null  object \n",
      " 25  PRODUCT_COMBINATION          1670214 non-null  object \n",
      "dtypes: float64(6), int64(5), object(15)\n",
      "memory usage: 331.3+ MB\n"
     ]
    }
   ],
   "source": [
    "df0.info()"
   ]
  },
  {
   "cell_type": "markdown",
   "metadata": {},
   "source": [
    "## merging data tg1( which has target varible 1 from df1 i'e application data) on column SK_ID_CURR of data frame df0\n",
    "### performed the same on tg0 also"
   ]
  },
  {
   "cell_type": "code",
   "execution_count": 470,
   "metadata": {},
   "outputs": [],
   "source": [
    "mg1 = df0.merge(tg1, on = 'SK_ID_CURR')"
   ]
  },
  {
   "cell_type": "code",
   "execution_count": 475,
   "metadata": {},
   "outputs": [],
   "source": [
    "mg0 = df0.merge(tg0, on = 'SK_ID_CURR')"
   ]
  },
  {
   "cell_type": "code",
   "execution_count": 471,
   "metadata": {},
   "outputs": [
    {
     "data": {
      "text/html": [
       "<div>\n",
       "<style scoped>\n",
       "    .dataframe tbody tr th:only-of-type {\n",
       "        vertical-align: middle;\n",
       "    }\n",
       "\n",
       "    .dataframe tbody tr th {\n",
       "        vertical-align: top;\n",
       "    }\n",
       "\n",
       "    .dataframe thead th {\n",
       "        text-align: right;\n",
       "    }\n",
       "</style>\n",
       "<table border=\"1\" class=\"dataframe\">\n",
       "  <thead>\n",
       "    <tr style=\"text-align: right;\">\n",
       "      <th></th>\n",
       "      <th>SK_ID_PREV</th>\n",
       "      <th>SK_ID_CURR</th>\n",
       "      <th>NAME_CONTRACT_TYPE_x</th>\n",
       "      <th>AMT_ANNUITY_x</th>\n",
       "      <th>AMT_APPLICATION</th>\n",
       "      <th>AMT_CREDIT_x</th>\n",
       "      <th>AMT_GOODS_PRICE_x</th>\n",
       "      <th>WEEKDAY_APPR_PROCESS_START</th>\n",
       "      <th>HOUR_APPR_PROCESS_START</th>\n",
       "      <th>FLAG_LAST_APPL_PER_CONTRACT</th>\n",
       "      <th>...</th>\n",
       "      <th>DAYS_LAST_PHONE_CHANGE</th>\n",
       "      <th>years_birth</th>\n",
       "      <th>years_employed</th>\n",
       "      <th>years_registration</th>\n",
       "      <th>years_last_phone_change</th>\n",
       "      <th>gender_flag</th>\n",
       "      <th>car_flag</th>\n",
       "      <th>realty_flag</th>\n",
       "      <th>age_group</th>\n",
       "      <th>registration_group</th>\n",
       "    </tr>\n",
       "  </thead>\n",
       "  <tbody>\n",
       "    <tr>\n",
       "      <th>0</th>\n",
       "      <td>1676258</td>\n",
       "      <td>433469</td>\n",
       "      <td>Cash loans</td>\n",
       "      <td>22243</td>\n",
       "      <td>247500</td>\n",
       "      <td>268083</td>\n",
       "      <td>247500</td>\n",
       "      <td>THURSDAY</td>\n",
       "      <td>14</td>\n",
       "      <td>Y</td>\n",
       "      <td>...</td>\n",
       "      <td>1800</td>\n",
       "      <td>39</td>\n",
       "      <td>1</td>\n",
       "      <td>1</td>\n",
       "      <td>4</td>\n",
       "      <td>0</td>\n",
       "      <td>1</td>\n",
       "      <td>0</td>\n",
       "      <td>30-40</td>\n",
       "      <td>&lt;30</td>\n",
       "    </tr>\n",
       "    <tr>\n",
       "      <th>1</th>\n",
       "      <td>2246417</td>\n",
       "      <td>433469</td>\n",
       "      <td>Consumer loans</td>\n",
       "      <td>5801</td>\n",
       "      <td>48375</td>\n",
       "      <td>47007</td>\n",
       "      <td>48375</td>\n",
       "      <td>SUNDAY</td>\n",
       "      <td>16</td>\n",
       "      <td>Y</td>\n",
       "      <td>...</td>\n",
       "      <td>1800</td>\n",
       "      <td>39</td>\n",
       "      <td>1</td>\n",
       "      <td>1</td>\n",
       "      <td>4</td>\n",
       "      <td>0</td>\n",
       "      <td>1</td>\n",
       "      <td>0</td>\n",
       "      <td>30-40</td>\n",
       "      <td>&lt;30</td>\n",
       "    </tr>\n",
       "    <tr>\n",
       "      <th>2</th>\n",
       "      <td>1758558</td>\n",
       "      <td>433469</td>\n",
       "      <td>Revolving loans</td>\n",
       "      <td>22500</td>\n",
       "      <td>450000</td>\n",
       "      <td>270000</td>\n",
       "      <td>450000</td>\n",
       "      <td>THURSDAY</td>\n",
       "      <td>13</td>\n",
       "      <td>N</td>\n",
       "      <td>...</td>\n",
       "      <td>1800</td>\n",
       "      <td>39</td>\n",
       "      <td>1</td>\n",
       "      <td>1</td>\n",
       "      <td>4</td>\n",
       "      <td>0</td>\n",
       "      <td>1</td>\n",
       "      <td>0</td>\n",
       "      <td>30-40</td>\n",
       "      <td>&lt;30</td>\n",
       "    </tr>\n",
       "    <tr>\n",
       "      <th>3</th>\n",
       "      <td>1708921</td>\n",
       "      <td>433469</td>\n",
       "      <td>Revolving loans</td>\n",
       "      <td>0</td>\n",
       "      <td>0</td>\n",
       "      <td>0</td>\n",
       "      <td>0</td>\n",
       "      <td>THURSDAY</td>\n",
       "      <td>11</td>\n",
       "      <td>Y</td>\n",
       "      <td>...</td>\n",
       "      <td>1800</td>\n",
       "      <td>39</td>\n",
       "      <td>1</td>\n",
       "      <td>1</td>\n",
       "      <td>4</td>\n",
       "      <td>0</td>\n",
       "      <td>1</td>\n",
       "      <td>0</td>\n",
       "      <td>30-40</td>\n",
       "      <td>&lt;30</td>\n",
       "    </tr>\n",
       "    <tr>\n",
       "      <th>4</th>\n",
       "      <td>2171757</td>\n",
       "      <td>433469</td>\n",
       "      <td>Cash loans</td>\n",
       "      <td>14807</td>\n",
       "      <td>202500</td>\n",
       "      <td>235912</td>\n",
       "      <td>202500</td>\n",
       "      <td>THURSDAY</td>\n",
       "      <td>13</td>\n",
       "      <td>Y</td>\n",
       "      <td>...</td>\n",
       "      <td>1800</td>\n",
       "      <td>39</td>\n",
       "      <td>1</td>\n",
       "      <td>1</td>\n",
       "      <td>4</td>\n",
       "      <td>0</td>\n",
       "      <td>1</td>\n",
       "      <td>0</td>\n",
       "      <td>30-40</td>\n",
       "      <td>&lt;30</td>\n",
       "    </tr>\n",
       "  </tbody>\n",
       "</table>\n",
       "<p>5 rows × 68 columns</p>\n",
       "</div>"
      ],
      "text/plain": [
       "   SK_ID_PREV  SK_ID_CURR NAME_CONTRACT_TYPE_x  AMT_ANNUITY_x  \\\n",
       "0     1676258      433469           Cash loans          22243   \n",
       "1     2246417      433469       Consumer loans           5801   \n",
       "2     1758558      433469      Revolving loans          22500   \n",
       "3     1708921      433469      Revolving loans              0   \n",
       "4     2171757      433469           Cash loans          14807   \n",
       "\n",
       "   AMT_APPLICATION  AMT_CREDIT_x  AMT_GOODS_PRICE_x  \\\n",
       "0           247500        268083             247500   \n",
       "1            48375         47007              48375   \n",
       "2           450000        270000             450000   \n",
       "3                0             0                  0   \n",
       "4           202500        235912             202500   \n",
       "\n",
       "  WEEKDAY_APPR_PROCESS_START  HOUR_APPR_PROCESS_START  \\\n",
       "0                   THURSDAY                       14   \n",
       "1                     SUNDAY                       16   \n",
       "2                   THURSDAY                       13   \n",
       "3                   THURSDAY                       11   \n",
       "4                   THURSDAY                       13   \n",
       "\n",
       "  FLAG_LAST_APPL_PER_CONTRACT  ...  DAYS_LAST_PHONE_CHANGE years_birth  \\\n",
       "0                           Y  ...                    1800          39   \n",
       "1                           Y  ...                    1800          39   \n",
       "2                           N  ...                    1800          39   \n",
       "3                           Y  ...                    1800          39   \n",
       "4                           Y  ...                    1800          39   \n",
       "\n",
       "  years_employed  years_registration years_last_phone_change gender_flag  \\\n",
       "0              1                   1                       4           0   \n",
       "1              1                   1                       4           0   \n",
       "2              1                   1                       4           0   \n",
       "3              1                   1                       4           0   \n",
       "4              1                   1                       4           0   \n",
       "\n",
       "  car_flag realty_flag age_group registration_group  \n",
       "0        1           0     30-40                <30  \n",
       "1        1           0     30-40                <30  \n",
       "2        1           0     30-40                <30  \n",
       "3        1           0     30-40                <30  \n",
       "4        1           0     30-40                <30  \n",
       "\n",
       "[5 rows x 68 columns]"
      ]
     },
     "execution_count": 471,
     "metadata": {},
     "output_type": "execute_result"
    }
   ],
   "source": [
    "mg1.head()"
   ]
  },
  {
   "cell_type": "code",
   "execution_count": 476,
   "metadata": {},
   "outputs": [
    {
     "data": {
      "text/html": [
       "<div>\n",
       "<style scoped>\n",
       "    .dataframe tbody tr th:only-of-type {\n",
       "        vertical-align: middle;\n",
       "    }\n",
       "\n",
       "    .dataframe tbody tr th {\n",
       "        vertical-align: top;\n",
       "    }\n",
       "\n",
       "    .dataframe thead th {\n",
       "        text-align: right;\n",
       "    }\n",
       "</style>\n",
       "<table border=\"1\" class=\"dataframe\">\n",
       "  <thead>\n",
       "    <tr style=\"text-align: right;\">\n",
       "      <th></th>\n",
       "      <th>SK_ID_PREV</th>\n",
       "      <th>SK_ID_CURR</th>\n",
       "      <th>NAME_CONTRACT_TYPE_x</th>\n",
       "      <th>AMT_ANNUITY_x</th>\n",
       "      <th>AMT_APPLICATION</th>\n",
       "      <th>AMT_CREDIT_x</th>\n",
       "      <th>AMT_GOODS_PRICE_x</th>\n",
       "      <th>WEEKDAY_APPR_PROCESS_START</th>\n",
       "      <th>HOUR_APPR_PROCESS_START</th>\n",
       "      <th>FLAG_LAST_APPL_PER_CONTRACT</th>\n",
       "      <th>...</th>\n",
       "      <th>DAYS_LAST_PHONE_CHANGE</th>\n",
       "      <th>years_birth</th>\n",
       "      <th>years_employed</th>\n",
       "      <th>years_registration</th>\n",
       "      <th>years_last_phone_change</th>\n",
       "      <th>gender_flag</th>\n",
       "      <th>car_flag</th>\n",
       "      <th>realty_flag</th>\n",
       "      <th>age_group</th>\n",
       "      <th>registration_group</th>\n",
       "    </tr>\n",
       "  </thead>\n",
       "  <tbody>\n",
       "    <tr>\n",
       "      <th>0</th>\n",
       "      <td>2030495</td>\n",
       "      <td>271877</td>\n",
       "      <td>Consumer loans</td>\n",
       "      <td>1730</td>\n",
       "      <td>17145</td>\n",
       "      <td>17145</td>\n",
       "      <td>17145</td>\n",
       "      <td>SATURDAY</td>\n",
       "      <td>15</td>\n",
       "      <td>Y</td>\n",
       "      <td>...</td>\n",
       "      <td>548</td>\n",
       "      <td>39</td>\n",
       "      <td>20</td>\n",
       "      <td>23</td>\n",
       "      <td>1</td>\n",
       "      <td>0</td>\n",
       "      <td>0</td>\n",
       "      <td>1</td>\n",
       "      <td>30-40</td>\n",
       "      <td>&lt;30</td>\n",
       "    </tr>\n",
       "    <tr>\n",
       "      <th>1</th>\n",
       "      <td>1696966</td>\n",
       "      <td>271877</td>\n",
       "      <td>Consumer loans</td>\n",
       "      <td>68259</td>\n",
       "      <td>1800000</td>\n",
       "      <td>1754721</td>\n",
       "      <td>1800000</td>\n",
       "      <td>SATURDAY</td>\n",
       "      <td>18</td>\n",
       "      <td>Y</td>\n",
       "      <td>...</td>\n",
       "      <td>548</td>\n",
       "      <td>39</td>\n",
       "      <td>20</td>\n",
       "      <td>23</td>\n",
       "      <td>1</td>\n",
       "      <td>0</td>\n",
       "      <td>0</td>\n",
       "      <td>1</td>\n",
       "      <td>30-40</td>\n",
       "      <td>&lt;30</td>\n",
       "    </tr>\n",
       "    <tr>\n",
       "      <th>2</th>\n",
       "      <td>2154916</td>\n",
       "      <td>271877</td>\n",
       "      <td>Consumer loans</td>\n",
       "      <td>12417</td>\n",
       "      <td>108400</td>\n",
       "      <td>119848</td>\n",
       "      <td>108400</td>\n",
       "      <td>SUNDAY</td>\n",
       "      <td>14</td>\n",
       "      <td>Y</td>\n",
       "      <td>...</td>\n",
       "      <td>548</td>\n",
       "      <td>39</td>\n",
       "      <td>20</td>\n",
       "      <td>23</td>\n",
       "      <td>1</td>\n",
       "      <td>0</td>\n",
       "      <td>0</td>\n",
       "      <td>1</td>\n",
       "      <td>30-40</td>\n",
       "      <td>&lt;30</td>\n",
       "    </tr>\n",
       "    <tr>\n",
       "      <th>3</th>\n",
       "      <td>2802425</td>\n",
       "      <td>108129</td>\n",
       "      <td>Cash loans</td>\n",
       "      <td>25189</td>\n",
       "      <td>607500</td>\n",
       "      <td>679671</td>\n",
       "      <td>607500</td>\n",
       "      <td>THURSDAY</td>\n",
       "      <td>11</td>\n",
       "      <td>Y</td>\n",
       "      <td>...</td>\n",
       "      <td>517</td>\n",
       "      <td>58</td>\n",
       "      <td>3</td>\n",
       "      <td>14</td>\n",
       "      <td>1</td>\n",
       "      <td>0</td>\n",
       "      <td>0</td>\n",
       "      <td>0</td>\n",
       "      <td>50-60</td>\n",
       "      <td>&lt;30</td>\n",
       "    </tr>\n",
       "    <tr>\n",
       "      <th>4</th>\n",
       "      <td>1536272</td>\n",
       "      <td>108129</td>\n",
       "      <td>Cash loans</td>\n",
       "      <td>21709</td>\n",
       "      <td>450000</td>\n",
       "      <td>512370</td>\n",
       "      <td>450000</td>\n",
       "      <td>WEDNESDAY</td>\n",
       "      <td>9</td>\n",
       "      <td>Y</td>\n",
       "      <td>...</td>\n",
       "      <td>517</td>\n",
       "      <td>58</td>\n",
       "      <td>3</td>\n",
       "      <td>14</td>\n",
       "      <td>1</td>\n",
       "      <td>0</td>\n",
       "      <td>0</td>\n",
       "      <td>0</td>\n",
       "      <td>50-60</td>\n",
       "      <td>&lt;30</td>\n",
       "    </tr>\n",
       "  </tbody>\n",
       "</table>\n",
       "<p>5 rows × 68 columns</p>\n",
       "</div>"
      ],
      "text/plain": [
       "   SK_ID_PREV  SK_ID_CURR NAME_CONTRACT_TYPE_x  AMT_ANNUITY_x  \\\n",
       "0     2030495      271877       Consumer loans           1730   \n",
       "1     1696966      271877       Consumer loans          68259   \n",
       "2     2154916      271877       Consumer loans          12417   \n",
       "3     2802425      108129           Cash loans          25189   \n",
       "4     1536272      108129           Cash loans          21709   \n",
       "\n",
       "   AMT_APPLICATION  AMT_CREDIT_x  AMT_GOODS_PRICE_x  \\\n",
       "0            17145         17145              17145   \n",
       "1          1800000       1754721            1800000   \n",
       "2           108400        119848             108400   \n",
       "3           607500        679671             607500   \n",
       "4           450000        512370             450000   \n",
       "\n",
       "  WEEKDAY_APPR_PROCESS_START  HOUR_APPR_PROCESS_START  \\\n",
       "0                   SATURDAY                       15   \n",
       "1                   SATURDAY                       18   \n",
       "2                     SUNDAY                       14   \n",
       "3                   THURSDAY                       11   \n",
       "4                  WEDNESDAY                        9   \n",
       "\n",
       "  FLAG_LAST_APPL_PER_CONTRACT  ...  DAYS_LAST_PHONE_CHANGE years_birth  \\\n",
       "0                           Y  ...                     548          39   \n",
       "1                           Y  ...                     548          39   \n",
       "2                           Y  ...                     548          39   \n",
       "3                           Y  ...                     517          58   \n",
       "4                           Y  ...                     517          58   \n",
       "\n",
       "  years_employed  years_registration years_last_phone_change gender_flag  \\\n",
       "0             20                  23                       1           0   \n",
       "1             20                  23                       1           0   \n",
       "2             20                  23                       1           0   \n",
       "3              3                  14                       1           0   \n",
       "4              3                  14                       1           0   \n",
       "\n",
       "  car_flag realty_flag age_group registration_group  \n",
       "0        0           1     30-40                <30  \n",
       "1        0           1     30-40                <30  \n",
       "2        0           1     30-40                <30  \n",
       "3        0           0     50-60                <30  \n",
       "4        0           0     50-60                <30  \n",
       "\n",
       "[5 rows x 68 columns]"
      ]
     },
     "execution_count": 476,
     "metadata": {},
     "output_type": "execute_result"
    }
   ],
   "source": [
    "mg0.head()"
   ]
  },
  {
   "cell_type": "code",
   "execution_count": 472,
   "metadata": {},
   "outputs": [
    {
     "data": {
      "text/plain": [
       "(121931, 68)"
      ]
     },
     "execution_count": 472,
     "metadata": {},
     "output_type": "execute_result"
    }
   ],
   "source": [
    "mg1.shape"
   ]
  },
  {
   "cell_type": "code",
   "execution_count": 477,
   "metadata": {},
   "outputs": [
    {
     "data": {
      "text/plain": [
       "(1285005, 68)"
      ]
     },
     "execution_count": 477,
     "metadata": {},
     "output_type": "execute_result"
    }
   ],
   "source": [
    "mg0.shape"
   ]
  },
  {
   "cell_type": "code",
   "execution_count": 481,
   "metadata": {},
   "outputs": [],
   "source": [
    "#sns.pairplot(mg1[['age_group','NAME_CONTRACT_STATUS']])\n",
    "#plt.show()"
   ]
  },
  {
   "cell_type": "code",
   "execution_count": 479,
   "metadata": {},
   "outputs": [
    {
     "data": {
      "image/png": "[encoded data removed]",
      "text/plain": [
       "<Figure size 2160x360 with 1 Axes>"
      ]
     },
     "metadata": {
      "needs_background": "light"
     },
     "output_type": "display_data"
    },
    {
     "data": {
      "image/png": "[encoded data removed]",
      "text/plain": [
       "<Figure size 2160x360 with 1 Axes>"
      ]
     },
     "metadata": {
      "needs_background": "light"
     },
     "output_type": "display_data"
    }
   ],
   "source": [
    "plt.figure(figsize=(30,5))\n",
    "plt.subplot(1,2,1)\n",
    "plt.title('target is 1')\n",
    "sns.boxplot(data=mg1,x='age_group',y='AMT_ANNUITY_x')\n",
    "plt.show()\n",
    "plt.figure(figsize=(30,5))\n",
    "plt.subplot(1,2,2)\n",
    "plt.title('target is 0')\n",
    "sns.boxplot(data=mg0,x='age_group',y='AMT_ANNUITY_x')\n",
    "plt.show()"
   ]
  },
  {
   "cell_type": "code",
   "execution_count": null,
   "metadata": {},
   "outputs": [],
   "source": [
    "ref = "
   ]
  },
  {
   "cell_type": "code",
   "execution_count": 474,
   "metadata": {},
   "outputs": [
    {
     "name": "stdout",
     "output_type": "stream",
     "text": [
      "<class 'pandas.core.frame.DataFrame'>\n",
      "Int64Index: 121931 entries, 0 to 121930\n",
      "Data columns (total 68 columns):\n",
      " #   Column                       Non-Null Count   Dtype   \n",
      "---  ------                       --------------   -----   \n",
      " 0   SK_ID_PREV                   121931 non-null  int64   \n",
      " 1   SK_ID_CURR                   121931 non-null  int64   \n",
      " 2   NAME_CONTRACT_TYPE_x         121931 non-null  object  \n",
      " 3   AMT_ANNUITY_x                121931 non-null  int32   \n",
      " 4   AMT_APPLICATION              121931 non-null  int32   \n",
      " 5   AMT_CREDIT_x                 121931 non-null  int32   \n",
      " 6   AMT_GOODS_PRICE_x            121931 non-null  int32   \n",
      " 7   WEEKDAY_APPR_PROCESS_START   121931 non-null  object  \n",
      " 8   HOUR_APPR_PROCESS_START      121931 non-null  int64   \n",
      " 9   FLAG_LAST_APPL_PER_CONTRACT  121931 non-null  object  \n",
      " 10  NFLAG_LAST_APPL_IN_DAY       121931 non-null  int64   \n",
      " 11  NAME_CASH_LOAN_PURPOSE       121931 non-null  object  \n",
      " 12  NAME_CONTRACT_STATUS         121931 non-null  object  \n",
      " 13  DAYS_DECISION                121931 non-null  int64   \n",
      " 14  NAME_PAYMENT_TYPE            121931 non-null  object  \n",
      " 15  CODE_REJECT_REASON           121931 non-null  object  \n",
      " 16  NAME_CLIENT_TYPE             121931 non-null  object  \n",
      " 17  NAME_GOODS_CATEGORY          121931 non-null  object  \n",
      " 18  NAME_PORTFOLIO               121931 non-null  object  \n",
      " 19  NAME_PRODUCT_TYPE            121931 non-null  object  \n",
      " 20  CHANNEL_TYPE                 121931 non-null  object  \n",
      " 21  SELLERPLACE_AREA             63639 non-null   float64 \n",
      " 22  NAME_SELLER_INDUSTRY         121931 non-null  object  \n",
      " 23  CNT_PAYMENT                  121931 non-null  int32   \n",
      " 24  NAME_YIELD_GROUP             121931 non-null  object  \n",
      " 25  PRODUCT_COMBINATION          121931 non-null  object  \n",
      " 26  TARGET                       121931 non-null  int64   \n",
      " 27  NAME_CONTRACT_TYPE_y         121931 non-null  object  \n",
      " 28  CODE_GENDER                  121931 non-null  object  \n",
      " 29  FLAG_OWN_CAR                 121931 non-null  object  \n",
      " 30  FLAG_OWN_REALTY              121931 non-null  object  \n",
      " 31  CNT_CHILDREN                 121931 non-null  int64   \n",
      " 32  AMT_INCOME_TOTAL             121931 non-null  int32   \n",
      " 33  AMT_CREDIT_y                 121931 non-null  int32   \n",
      " 34  AMT_ANNUITY_y                121931 non-null  int32   \n",
      " 35  AMT_GOODS_PRICE_y            121931 non-null  int32   \n",
      " 36  NAME_TYPE_SUITE              121931 non-null  object  \n",
      " 37  NAME_INCOME_TYPE             121931 non-null  object  \n",
      " 38  NAME_EDUCATION_TYPE          121931 non-null  object  \n",
      " 39  NAME_FAMILY_STATUS           121931 non-null  object  \n",
      " 40  NAME_HOUSING_TYPE            121931 non-null  object  \n",
      " 41  DAYS_BIRTH                   121931 non-null  int64   \n",
      " 42  DAYS_EMPLOYED                121931 non-null  int64   \n",
      " 43  DAYS_REGISTRATION            121931 non-null  int32   \n",
      " 44  CNT_FAM_MEMBERS              121931 non-null  int32   \n",
      " 45  REGION_RATING_CLIENT         121931 non-null  int64   \n",
      " 46  REGION_RATING_CLIENT_W_CITY  121931 non-null  int64   \n",
      " 47  REG_REGION_NOT_LIVE_REGION   121931 non-null  int64   \n",
      " 48  REG_REGION_NOT_WORK_REGION   121931 non-null  int64   \n",
      " 49  LIVE_REGION_NOT_WORK_REGION  121931 non-null  int64   \n",
      " 50  REG_CITY_NOT_LIVE_CITY       121931 non-null  int64   \n",
      " 51  REG_CITY_NOT_WORK_CITY       121931 non-null  int64   \n",
      " 52  LIVE_CITY_NOT_WORK_CITY      121931 non-null  int64   \n",
      " 53  ORGANIZATION_TYPE            121931 non-null  object  \n",
      " 54  OBS_30_CNT_SOCIAL_CIRCLE     121931 non-null  int32   \n",
      " 55  DEF_30_CNT_SOCIAL_CIRCLE     121931 non-null  int32   \n",
      " 56  OBS_60_CNT_SOCIAL_CIRCLE     121931 non-null  int32   \n",
      " 57  DEF_60_CNT_SOCIAL_CIRCLE     121931 non-null  int32   \n",
      " 58  DAYS_LAST_PHONE_CHANGE       121931 non-null  int32   \n",
      " 59  years_birth                  121931 non-null  int64   \n",
      " 60  years_employed               121931 non-null  int64   \n",
      " 61  years_registration           121931 non-null  int64   \n",
      " 62  years_last_phone_change      121931 non-null  int64   \n",
      " 63  gender_flag                  121931 non-null  int32   \n",
      " 64  car_flag                     121931 non-null  int32   \n",
      " 65  realty_flag                  121931 non-null  int32   \n",
      " 66  age_group                    121931 non-null  category\n",
      " 67  registration_group           113629 non-null  category\n",
      "dtypes: category(2), float64(1), int32(19), int64(21), object(25)\n",
      "memory usage: 53.7+ MB\n"
     ]
    }
   ],
   "source": [
    "mg1.info()"
   ]
  },
  {
   "cell_type": "code",
   "execution_count": 482,
   "metadata": {},
   "outputs": [
    {
     "name": "stdout",
     "output_type": "stream",
     "text": [
      "<class 'pandas.core.frame.DataFrame'>\n",
      "Int64Index: 305185 entries, 0 to 307510\n",
      "Data columns (total 34 columns):\n",
      " #   Column                       Non-Null Count   Dtype \n",
      "---  ------                       --------------   ----- \n",
      " 0   SK_ID_CURR                   305185 non-null  int64 \n",
      " 1   TARGET                       305185 non-null  int64 \n",
      " 2   NAME_CONTRACT_TYPE           305185 non-null  object\n",
      " 3   CODE_GENDER                  305185 non-null  object\n",
      " 4   FLAG_OWN_CAR                 305185 non-null  object\n",
      " 5   FLAG_OWN_REALTY              305185 non-null  object\n",
      " 6   CNT_CHILDREN                 305185 non-null  int64 \n",
      " 7   AMT_INCOME_TOTAL             305185 non-null  int32 \n",
      " 8   AMT_CREDIT                   305185 non-null  int32 \n",
      " 9   AMT_ANNUITY                  305185 non-null  int32 \n",
      " 10  AMT_GOODS_PRICE              305185 non-null  int32 \n",
      " 11  NAME_TYPE_SUITE              305185 non-null  object\n",
      " 12  NAME_INCOME_TYPE             305185 non-null  object\n",
      " 13  NAME_EDUCATION_TYPE          305185 non-null  object\n",
      " 14  NAME_FAMILY_STATUS           305185 non-null  object\n",
      " 15  NAME_HOUSING_TYPE            305185 non-null  object\n",
      " 16  DAYS_BIRTH                   305185 non-null  int64 \n",
      " 17  DAYS_EMPLOYED                305185 non-null  int64 \n",
      " 18  DAYS_REGISTRATION            305185 non-null  int32 \n",
      " 19  CNT_FAM_MEMBERS              305185 non-null  int32 \n",
      " 20  REGION_RATING_CLIENT         305185 non-null  int64 \n",
      " 21  REGION_RATING_CLIENT_W_CITY  305185 non-null  int64 \n",
      " 22  REG_REGION_NOT_LIVE_REGION   305185 non-null  int64 \n",
      " 23  REG_REGION_NOT_WORK_REGION   305185 non-null  int64 \n",
      " 24  LIVE_REGION_NOT_WORK_REGION  305185 non-null  int64 \n",
      " 25  REG_CITY_NOT_LIVE_CITY       305185 non-null  int64 \n",
      " 26  REG_CITY_NOT_WORK_CITY       305185 non-null  int64 \n",
      " 27  LIVE_CITY_NOT_WORK_CITY      305185 non-null  int64 \n",
      " 28  ORGANIZATION_TYPE            305185 non-null  object\n",
      " 29  OBS_30_CNT_SOCIAL_CIRCLE     305185 non-null  int32 \n",
      " 30  DEF_30_CNT_SOCIAL_CIRCLE     305185 non-null  int32 \n",
      " 31  OBS_60_CNT_SOCIAL_CIRCLE     305185 non-null  int32 \n",
      " 32  DEF_60_CNT_SOCIAL_CIRCLE     305185 non-null  int32 \n",
      " 33  DAYS_LAST_PHONE_CHANGE       305185 non-null  int32 \n",
      "dtypes: int32(11), int64(13), object(10)\n",
      "memory usage: 68.7+ MB\n"
     ]
    }
   ],
   "source": [
    "df1.info()"
   ]
  },
  {
   "cell_type": "code",
   "execution_count": 483,
   "metadata": {},
   "outputs": [
    {
     "name": "stdout",
     "output_type": "stream",
     "text": [
      "<class 'pandas.core.frame.DataFrame'>\n",
      "RangeIndex: 1670214 entries, 0 to 1670213\n",
      "Data columns (total 26 columns):\n",
      " #   Column                       Non-Null Count    Dtype  \n",
      "---  ------                       --------------    -----  \n",
      " 0   SK_ID_PREV                   1670214 non-null  int64  \n",
      " 1   SK_ID_CURR                   1670214 non-null  int64  \n",
      " 2   NAME_CONTRACT_TYPE           1670214 non-null  object \n",
      " 3   AMT_ANNUITY                  1670214 non-null  int32  \n",
      " 4   AMT_APPLICATION              1670214 non-null  int32  \n",
      " 5   AMT_CREDIT                   1670214 non-null  int32  \n",
      " 6   AMT_GOODS_PRICE              1670214 non-null  int32  \n",
      " 7   WEEKDAY_APPR_PROCESS_START   1670214 non-null  object \n",
      " 8   HOUR_APPR_PROCESS_START      1670214 non-null  int64  \n",
      " 9   FLAG_LAST_APPL_PER_CONTRACT  1670214 non-null  object \n",
      " 10  NFLAG_LAST_APPL_IN_DAY       1670214 non-null  int64  \n",
      " 11  NAME_CASH_LOAN_PURPOSE       1670214 non-null  object \n",
      " 12  NAME_CONTRACT_STATUS         1670214 non-null  object \n",
      " 13  DAYS_DECISION                1670214 non-null  int64  \n",
      " 14  NAME_PAYMENT_TYPE            1670214 non-null  object \n",
      " 15  CODE_REJECT_REASON           1670214 non-null  object \n",
      " 16  NAME_CLIENT_TYPE             1670214 non-null  object \n",
      " 17  NAME_GOODS_CATEGORY          1670214 non-null  object \n",
      " 18  NAME_PORTFOLIO               1670214 non-null  object \n",
      " 19  NAME_PRODUCT_TYPE            1670214 non-null  object \n",
      " 20  CHANNEL_TYPE                 1670214 non-null  object \n",
      " 21  SELLERPLACE_AREA             907539 non-null   float64\n",
      " 22  NAME_SELLER_INDUSTRY         1670214 non-null  object \n",
      " 23  CNT_PAYMENT                  1670214 non-null  int32  \n",
      " 24  NAME_YIELD_GROUP             1670214 non-null  object \n",
      " 25  PRODUCT_COMBINATION          1670214 non-null  object \n",
      "dtypes: float64(1), int32(5), int64(5), object(15)\n",
      "memory usage: 299.5+ MB\n"
     ]
    }
   ],
   "source": [
    "df0.info()"
   ]
  },
  {
   "cell_type": "code",
   "execution_count": 495,
   "metadata": {},
   "outputs": [
    {
     "data": {
      "image/png": "[encoded data removed]",
      "text/plain": [
       "<Figure size 432x432 with 3 Axes>"
      ]
     },
     "metadata": {
      "needs_background": "light"
     },
     "output_type": "display_data"
    }
   ],
   "source": [
    "sns.jointplot(mg1.AMT_INCOME_TOTAL, mg1.AMT_CREDIT_x)\n",
    "plt.show()"
   ]
  },
  {
   "cell_type": "code",
   "execution_count": null,
   "metadata": {},
   "outputs": [],
   "source": []
  },
  {
   "cell_type": "code",
   "execution_count": null,
   "metadata": {},
   "outputs": [],
   "source": []
  },
  {
   "cell_type": "code",
   "execution_count": null,
   "metadata": {},
   "outputs": [],
   "source": []
  },
  {
   "cell_type": "code",
   "execution_count": null,
   "metadata": {},
   "outputs": [],
   "source": []
  },
  {
   "cell_type": "code",
   "execution_count": null,
   "metadata": {},
   "outputs": [],
   "source": []
  },
  {
   "cell_type": "code",
   "execution_count": null,
   "metadata": {},
   "outputs": [],
   "source": []
  },
  {
   "cell_type": "code",
   "execution_count": null,
   "metadata": {},
   "outputs": [],
   "source": []
  }
 ],
 "metadata": {
  "kernelspec": {
   "display_name": "Python 3",
   "language": "python",
   "name": "python3"
  },
  "language_info": {
   "codemirror_mode": {
    "name": "ipython",
    "version": 3
   },
   "file_extension": ".py",
   "mimetype": "text/x-python",
   "name": "python",
   "nbconvert_exporter": "python",
   "pygments_lexer": "ipython3",
   "version": "3.8.3"
  }
 },
 "nbformat": 4,
 "nbformat_minor": 4
}
